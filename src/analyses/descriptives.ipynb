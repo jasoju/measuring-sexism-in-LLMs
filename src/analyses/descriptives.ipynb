{
 "cells": [
  {
   "cell_type": "code",
   "execution_count": 404,
   "metadata": {},
   "outputs": [],
   "source": [
    "import sys\n",
    "import os\n",
    "\n",
    "# Add the src directory to Python path\n",
    "sys.path.append(os.path.abspath(os.path.join(os.getcwd(), '..')))"
   ]
  },
  {
   "cell_type": "markdown",
   "metadata": {},
   "source": [
    "# Analyses - Descriptives"
   ]
  },
  {
   "cell_type": "code",
   "execution_count": 405,
   "metadata": {},
   "outputs": [],
   "source": [
    "import pandas as pd\n",
    "import matplotlib.pyplot as plt\n",
    "from matplotlib.ticker import MaxNLocator\n",
    "from scipy import stats\n",
    "\n",
    "from utils.output_data_preprocess import *"
   ]
  },
  {
   "cell_type": "markdown",
   "metadata": {},
   "source": [
    "## Load data"
   ]
  },
  {
   "cell_type": "code",
   "execution_count": 406,
   "metadata": {},
   "outputs": [],
   "source": [
    "file = \"Mistral-7B-Instruct-v0.3__persona_hub__MSS__2025-02-07_17-36\"\n",
    "\n",
    "############ ASI ############\n",
    "# dolphin-2.8-mistral-7b-v02__chatbot_arena_conv__ASI__2025-02-10_05-13\n",
    "# dolphin-2.8-mistral-7b-v02__persona_hub__ASI__2025-02-10_07-42\n",
    "\n",
    "# Llama-3.1-8B-Instruct__chatbot_arena_conv__ASI__2025-02-06_00-05\n",
    "# Llama-3.1-8B-Instruct__persona_hub__ASI__2025-02-07_11-05\n",
    "\n",
    "# Mistral-7B-Instruct-v0.3__chatbot_arena_conv__ASI__2025-02-07_09-21 \n",
    "# Mistral-7B-Instruct-v0.3__persona_hub__ASI__2025-02-07_23-32\n",
    "\n",
    "\n",
    "############ Random answer option order ############\n",
    "# dolphin-2.8-mistral-7b-v02__chatbot_arena_conv__ASI__random__2025-02-10_08-52\n",
    "# Llama-3.1-8B-Instruct__chatbot_arena_conv__ASI__random__2025-02-07_09-25\n",
    "# Mistral-7B-Instruct-v0.3__chatbot_arena_conv__ASI__random__2025-02-11_18-00\n",
    "\n",
    "\n",
    "############ ASI alternate form ############\n",
    "# dolphin-2.8-mistral-7b-v02__chatbot_arena_conv__ASI_af__2025-02-11_07-57\n",
    "# Llama-3.1-8B-Instruct__chatbot_arena_conv__ASI_af__2025-02-11_09-22\n",
    "# Mistral-7B-Instruct-v0.3__chatbot_arena_conv__ASI_af__2025-02-11_01-39\n",
    "\n",
    "\n",
    "############ No context ############\n",
    "# dolphin-2.8-mistral-7b-v02__None__ASI__2025-02-05_06-36\n",
    "# Llama-3.1-8B-Instruct__None__ASI__2025-02-09_19-19\n",
    "# Mistral-7B-Instruct-v0.3__None__ASI__2025-02-05_20-32 \n",
    "\n",
    "\n",
    "############ MSS ############\n",
    "# dolphin-2.8-mistral-7b-v02__chatbot_arena_conv__MSS__2025-02-09_22-34\n",
    "# dolphin-2.8-mistral-7b-v02__persona_hub__MSS__2025-02-09_22-41\n",
    "\n",
    "# Llama-3.1-8B-Instruct__chatbot_arena_conv__MSS__2025-02-07_23-00\n",
    "# Llama-3.1-8B-Instruct__persona_hub__MSS__2025-02-07_22-12\n",
    "\n",
    "# Mistral-7B-Instruct-v0.3__chatbot_arena_conv__MSS__2025-02-07_19-47\n",
    "# Mistral-7B-Instruct-v0.3__persona_hub__MSS__2025-02-07_17-36\n",
    "\n",
    "\n",
    "df = pd.read_json(f\"..\\output_data\\{file}.json\", orient=\"columns\")"
   ]
  },
  {
   "cell_type": "code",
   "execution_count": 407,
   "metadata": {},
   "outputs": [],
   "source": [
    "# save for extract_answer evaluation\n",
    "# df_sample = df.sample(n=100)\n",
    "# df_sample.to_csv(\"Llama-3.1-8B-Instruct__extract_answer.csv\",sep=\";\")"
   ]
  },
  {
   "cell_type": "code",
   "execution_count": 408,
   "metadata": {},
   "outputs": [],
   "source": [
    "# set up all needed variables depending on which dataset is loaded\n",
    "\n",
    "# context\n",
    "if \"persona\" in file:\n",
    "    context_var = \"persona_id\"\n",
    "    context_name = \"Persona Hub\"\n",
    "    context_file = \"persona_hub\"\n",
    "elif \"chatbot\" in file:\n",
    "    context_var = \"question_id\"\n",
    "    context_name = \"Chatbot Arena\"\n",
    "    context_file = \"chatbot_arena_conv\"\n",
    "else:\n",
    "    context_var = None\n",
    "    context_name = None\n",
    "    context_file = None\n",
    "\n",
    "# model\n",
    "if \"dolphin\" in file.lower():\n",
    "    model_name = \"Dolphin 2.8 Mistral 7b v0.2\"\n",
    "    model_id = \"dolphin-2.8-mistral-7b-v02\" \n",
    "elif \"llama\" in file.lower():\n",
    "    model_name = \"Llama 3.1 8B Instruct\"\n",
    "    model_id = \"Llama-3.1-8B-Instruct\"\n",
    "else: \n",
    "    model_name = \"Mistral 7B Instruct v0.3\"\n",
    "    model_id = \"Mistral-7B-Instruct-v0.3\"\n",
    "\n",
    "#task\n",
    "if \"MSS\" in file:\n",
    "    task = \"MSS\"\n",
    "elif \"ASI_af\" in file:\n",
    "    task = \"ASI_af\"\n",
    "elif \"random\" in file:\n",
    "    task = \"ASI_random\"\n",
    "else:\n",
    "    task = \"ASI\""
   ]
  },
  {
   "cell_type": "markdown",
   "metadata": {},
   "source": [
    "## Initial exploration"
   ]
  },
  {
   "cell_type": "code",
   "execution_count": 409,
   "metadata": {},
   "outputs": [
    {
     "data": {
      "text/html": [
       "<div>\n",
       "<style scoped>\n",
       "    .dataframe tbody tr th:only-of-type {\n",
       "        vertical-align: middle;\n",
       "    }\n",
       "\n",
       "    .dataframe tbody tr th {\n",
       "        vertical-align: top;\n",
       "    }\n",
       "\n",
       "    .dataframe thead th {\n",
       "        text-align: right;\n",
       "    }\n",
       "</style>\n",
       "<table border=\"1\" class=\"dataframe\">\n",
       "  <thead>\n",
       "    <tr style=\"text-align: right;\">\n",
       "      <th></th>\n",
       "      <th>item_id</th>\n",
       "      <th>item</th>\n",
       "      <th>reversed</th>\n",
       "      <th>persona_id</th>\n",
       "      <th>persona</th>\n",
       "      <th>persona_prompt</th>\n",
       "      <th>prompt</th>\n",
       "      <th>response</th>\n",
       "      <th>answer</th>\n",
       "    </tr>\n",
       "  </thead>\n",
       "  <tbody>\n",
       "    <tr>\n",
       "      <th>0</th>\n",
       "      <td>1</td>\n",
       "      <td>Discrimination against women is no longer a pr...</td>\n",
       "      <td>True</td>\n",
       "      <td>85519</td>\n",
       "      <td>a patient who participated in a clinical trial...</td>\n",
       "      <td>[{'role': 'system', 'content': 'You are a pati...</td>\n",
       "      <td>[{'role': 'system', 'content': 'You are a pati...</td>\n",
       "      <td>5 strongly disagree</td>\n",
       "      <td>5</td>\n",
       "    </tr>\n",
       "    <tr>\n",
       "      <th>1</th>\n",
       "      <td>1</td>\n",
       "      <td>Discrimination against women is no longer a pr...</td>\n",
       "      <td>True</td>\n",
       "      <td>126701</td>\n",
       "      <td>an introverted accountant who is extremely det...</td>\n",
       "      <td>[{'role': 'system', 'content': 'You are an int...</td>\n",
       "      <td>[{'role': 'system', 'content': 'You are an int...</td>\n",
       "      <td>5 strongly disagree</td>\n",
       "      <td>5</td>\n",
       "    </tr>\n",
       "    <tr>\n",
       "      <th>2</th>\n",
       "      <td>1</td>\n",
       "      <td>Discrimination against women is no longer a pr...</td>\n",
       "      <td>True</td>\n",
       "      <td>179838</td>\n",
       "      <td>a graphics programmer who shares and discusses...</td>\n",
       "      <td>[{'role': 'system', 'content': 'You are a grap...</td>\n",
       "      <td>[{'role': 'system', 'content': 'You are a grap...</td>\n",
       "      <td>5 strongly disagree</td>\n",
       "      <td>5</td>\n",
       "    </tr>\n",
       "  </tbody>\n",
       "</table>\n",
       "</div>"
      ],
      "text/plain": [
       "   item_id                                               item  reversed  \\\n",
       "0        1  Discrimination against women is no longer a pr...      True   \n",
       "1        1  Discrimination against women is no longer a pr...      True   \n",
       "2        1  Discrimination against women is no longer a pr...      True   \n",
       "\n",
       "   persona_id                                            persona  \\\n",
       "0       85519  a patient who participated in a clinical trial...   \n",
       "1      126701  an introverted accountant who is extremely det...   \n",
       "2      179838  a graphics programmer who shares and discusses...   \n",
       "\n",
       "                                      persona_prompt  \\\n",
       "0  [{'role': 'system', 'content': 'You are a pati...   \n",
       "1  [{'role': 'system', 'content': 'You are an int...   \n",
       "2  [{'role': 'system', 'content': 'You are a grap...   \n",
       "\n",
       "                                              prompt              response  \\\n",
       "0  [{'role': 'system', 'content': 'You are a pati...   5 strongly disagree   \n",
       "1  [{'role': 'system', 'content': 'You are an int...   5 strongly disagree   \n",
       "2  [{'role': 'system', 'content': 'You are a grap...   5 strongly disagree   \n",
       "\n",
       "   answer  \n",
       "0       5  \n",
       "1       5  \n",
       "2       5  "
      ]
     },
     "execution_count": 409,
     "metadata": {},
     "output_type": "execute_result"
    }
   ],
   "source": [
    "df.head(n=3)"
   ]
  },
  {
   "cell_type": "code",
   "execution_count": 410,
   "metadata": {},
   "outputs": [
    {
     "data": {
      "text/plain": [
       "item_id            int64\n",
       "item              object\n",
       "reversed            bool\n",
       "persona_id         int64\n",
       "persona           object\n",
       "persona_prompt    object\n",
       "prompt            object\n",
       "response          object\n",
       "answer             int64\n",
       "dtype: object"
      ]
     },
     "execution_count": 410,
     "metadata": {},
     "output_type": "execute_result"
    }
   ],
   "source": [
    "df.dtypes"
   ]
  },
  {
   "cell_type": "code",
   "execution_count": 411,
   "metadata": {},
   "outputs": [
    {
     "name": "stdout",
     "output_type": "stream",
     "text": [
      "Number of rows: 2400\n",
      "Number of columns: 9\n"
     ]
    }
   ],
   "source": [
    "print(\"Number of rows:\",df.shape[0])\n",
    "print(\"Number of columns:\",df.shape[1])"
   ]
  },
  {
   "cell_type": "code",
   "execution_count": 412,
   "metadata": {},
   "outputs": [
    {
     "name": "stdout",
     "output_type": "stream",
     "text": [
      "Number of NaN answers: 0\n"
     ]
    }
   ],
   "source": [
    "count_nan = df[\"answer\"].isnull().sum()\n",
    "print(\"Number of NaN answers:\",count_nan)"
   ]
  },
  {
   "cell_type": "markdown",
   "metadata": {},
   "source": [
    "## Drop NaN"
   ]
  },
  {
   "cell_type": "code",
   "execution_count": 413,
   "metadata": {},
   "outputs": [
    {
     "name": "stdout",
     "output_type": "stream",
     "text": [
      "Number of rows: 2400\n"
     ]
    }
   ],
   "source": [
    "# drop rows with nan value in \"answer\" column\n",
    "df_clean = df.dropna(subset=[\"answer\"])\n",
    "\n",
    "print(\"Number of rows:\",df_clean.shape[0])"
   ]
  },
  {
   "cell_type": "markdown",
   "metadata": {},
   "source": [
    "## Drop unwanted personas from Persona Hub"
   ]
  },
  {
   "cell_type": "code",
   "execution_count": 414,
   "metadata": {},
   "outputs": [
    {
     "name": "stdout",
     "output_type": "stream",
     "text": [
      "Number of rows: 2368\n"
     ]
    }
   ],
   "source": [
    "# delete unwanted personas from persona hub data\n",
    "bad_personas = [176389, 79999, 119752, 73719] # personas ids taken from manual check\n",
    "\n",
    "if context_name == \"Persona Hub\":\n",
    "    df_clean.drop(df_clean[df_clean[\"persona_id\"].isin(bad_personas)].index, inplace=True)\n",
    "    #check\n",
    "    print(\"Number of rows:\",df_clean.shape[0])\n"
   ]
  },
  {
   "cell_type": "markdown",
   "metadata": {},
   "source": [
    "## Reverse items"
   ]
  },
  {
   "cell_type": "code",
   "execution_count": 415,
   "metadata": {},
   "outputs": [],
   "source": [
    "df_clean.loc[:,\"answer_reversed\"] = df_clean.apply(reverse_answer, axis=1, args=(task,))"
   ]
  },
  {
   "cell_type": "markdown",
   "metadata": {},
   "source": [
    "## Code for data without context"
   ]
  },
  {
   "cell_type": "code",
   "execution_count": 416,
   "metadata": {},
   "outputs": [],
   "source": [
    "if context_name is None:\n",
    "    print(\"ASI score:\",df_clean[\"answer_reversed\"].mean())\n",
    "\n",
    "# after this the code thows error when using data without context"
   ]
  },
  {
   "cell_type": "markdown",
   "metadata": {},
   "source": [
    "## Prepare wide format dataframe"
   ]
  },
  {
   "cell_type": "code",
   "execution_count": 417,
   "metadata": {},
   "outputs": [
    {
     "data": {
      "text/html": [
       "<div>\n",
       "<style scoped>\n",
       "    .dataframe tbody tr th:only-of-type {\n",
       "        vertical-align: middle;\n",
       "    }\n",
       "\n",
       "    .dataframe tbody tr th {\n",
       "        vertical-align: top;\n",
       "    }\n",
       "\n",
       "    .dataframe thead th {\n",
       "        text-align: right;\n",
       "    }\n",
       "</style>\n",
       "<table border=\"1\" class=\"dataframe\">\n",
       "  <thead>\n",
       "    <tr style=\"text-align: right;\">\n",
       "      <th>item_id</th>\n",
       "      <th>1</th>\n",
       "      <th>2</th>\n",
       "      <th>3</th>\n",
       "      <th>4</th>\n",
       "      <th>5</th>\n",
       "      <th>6</th>\n",
       "      <th>7</th>\n",
       "      <th>8</th>\n",
       "    </tr>\n",
       "    <tr>\n",
       "      <th>persona_id</th>\n",
       "      <th></th>\n",
       "      <th></th>\n",
       "      <th></th>\n",
       "      <th></th>\n",
       "      <th></th>\n",
       "      <th></th>\n",
       "      <th></th>\n",
       "      <th></th>\n",
       "    </tr>\n",
       "  </thead>\n",
       "  <tbody>\n",
       "    <tr>\n",
       "      <th>282</th>\n",
       "      <td>1</td>\n",
       "      <td>5</td>\n",
       "      <td>1</td>\n",
       "      <td>3</td>\n",
       "      <td>3</td>\n",
       "      <td>3</td>\n",
       "      <td>1</td>\n",
       "      <td>1</td>\n",
       "    </tr>\n",
       "    <tr>\n",
       "      <th>2855</th>\n",
       "      <td>1</td>\n",
       "      <td>5</td>\n",
       "      <td>1</td>\n",
       "      <td>3</td>\n",
       "      <td>3</td>\n",
       "      <td>3</td>\n",
       "      <td>1</td>\n",
       "      <td>1</td>\n",
       "    </tr>\n",
       "    <tr>\n",
       "      <th>2948</th>\n",
       "      <td>1</td>\n",
       "      <td>5</td>\n",
       "      <td>1</td>\n",
       "      <td>3</td>\n",
       "      <td>3</td>\n",
       "      <td>3</td>\n",
       "      <td>1</td>\n",
       "      <td>1</td>\n",
       "    </tr>\n",
       "  </tbody>\n",
       "</table>\n",
       "</div>"
      ],
      "text/plain": [
       "item_id     1  2  3  4  5  6  7  8\n",
       "persona_id                        \n",
       "282         1  5  1  3  3  3  1  1\n",
       "2855        1  5  1  3  3  3  1  1\n",
       "2948        1  5  1  3  3  3  1  1"
      ]
     },
     "execution_count": 417,
     "metadata": {},
     "output_type": "execute_result"
    }
   ],
   "source": [
    "# create wide format of df\n",
    "df_wide = df_clean.pivot(index=context_var, columns=\"item_id\", values=\"answer_reversed\")\n",
    "\n",
    "# save wide format as csv (needed for R code)\n",
    "df_wide.to_csv(f\"..\\output_data\\wide\\wide__{file}.csv\")\n",
    "\n",
    "df_wide.head(n=3)"
   ]
  },
  {
   "cell_type": "markdown",
   "metadata": {},
   "source": [
    "## ASI scores per context"
   ]
  },
  {
   "cell_type": "code",
   "execution_count": 418,
   "metadata": {},
   "outputs": [],
   "source": [
    "# assign ASI items to AS dimensions\n",
    "h_items = [2, 4, 5, 7, 10, 11, 14, 15, 16, 18, 21]\n",
    "b_items = [1, 3, 6, 8, 9, 12, 13, 17, 19, 20, 22]"
   ]
  },
  {
   "cell_type": "code",
   "execution_count": 419,
   "metadata": {},
   "outputs": [
    {
     "data": {
      "text/html": [
       "<div>\n",
       "<style scoped>\n",
       "    .dataframe tbody tr th:only-of-type {\n",
       "        vertical-align: middle;\n",
       "    }\n",
       "\n",
       "    .dataframe tbody tr th {\n",
       "        vertical-align: top;\n",
       "    }\n",
       "\n",
       "    .dataframe thead th {\n",
       "        text-align: right;\n",
       "    }\n",
       "</style>\n",
       "<table border=\"1\" class=\"dataframe\">\n",
       "  <thead>\n",
       "    <tr style=\"text-align: right;\">\n",
       "      <th></th>\n",
       "      <th>total</th>\n",
       "    </tr>\n",
       "    <tr>\n",
       "      <th>persona_id</th>\n",
       "      <th></th>\n",
       "    </tr>\n",
       "  </thead>\n",
       "  <tbody>\n",
       "    <tr>\n",
       "      <th>282</th>\n",
       "      <td>2.250</td>\n",
       "    </tr>\n",
       "    <tr>\n",
       "      <th>2855</th>\n",
       "      <td>2.250</td>\n",
       "    </tr>\n",
       "    <tr>\n",
       "      <th>2948</th>\n",
       "      <td>2.250</td>\n",
       "    </tr>\n",
       "    <tr>\n",
       "      <th>3912</th>\n",
       "      <td>2.375</td>\n",
       "    </tr>\n",
       "    <tr>\n",
       "      <th>5030</th>\n",
       "      <td>2.250</td>\n",
       "    </tr>\n",
       "    <tr>\n",
       "      <th>...</th>\n",
       "      <td>...</td>\n",
       "    </tr>\n",
       "    <tr>\n",
       "      <th>196279</th>\n",
       "      <td>3.000</td>\n",
       "    </tr>\n",
       "    <tr>\n",
       "      <th>197297</th>\n",
       "      <td>1.750</td>\n",
       "    </tr>\n",
       "    <tr>\n",
       "      <th>199256</th>\n",
       "      <td>2.000</td>\n",
       "    </tr>\n",
       "    <tr>\n",
       "      <th>199492</th>\n",
       "      <td>2.250</td>\n",
       "    </tr>\n",
       "    <tr>\n",
       "      <th>199530</th>\n",
       "      <td>2.500</td>\n",
       "    </tr>\n",
       "  </tbody>\n",
       "</table>\n",
       "<p>296 rows × 1 columns</p>\n",
       "</div>"
      ],
      "text/plain": [
       "            total\n",
       "persona_id       \n",
       "282         2.250\n",
       "2855        2.250\n",
       "2948        2.250\n",
       "3912        2.375\n",
       "5030        2.250\n",
       "...           ...\n",
       "196279      3.000\n",
       "197297      1.750\n",
       "199256      2.000\n",
       "199492      2.250\n",
       "199530      2.500\n",
       "\n",
       "[296 rows x 1 columns]"
      ]
     },
     "execution_count": 419,
     "metadata": {},
     "output_type": "execute_result"
    }
   ],
   "source": [
    "# calculate score values\n",
    "if task == \"MSS\":\n",
    "    df_scores = pd.DataFrame({\n",
    "    \"total\": df_wide.mean(axis=1)\n",
    "    })\n",
    "else:\n",
    "    df_scores = pd.DataFrame({\n",
    "        \"total\": df_wide.mean(axis=1),\n",
    "        \"HS\": df_wide[h_items].mean(axis=1),\n",
    "        \"BS\": df_wide[b_items].mean(axis=1)\n",
    "    })\n",
    "\n",
    "df_scores"
   ]
  },
  {
   "cell_type": "markdown",
   "metadata": {},
   "source": [
    "### Create context subset based on ASI score quartiles"
   ]
  },
  {
   "cell_type": "code",
   "execution_count": 420,
   "metadata": {},
   "outputs": [],
   "source": [
    "# needed for concurrent validity\n",
    "if task==\"ASI\":\n",
    "    # calculate quartile values of ASI score\n",
    "    quartiles = df_scores[\"total\"].quantile([0.25, 0.5, 0.75]).values\n",
    "\n",
    "    # randomly sample 10 contexts from each quartile (get indices)\n",
    "    # if less then 10 in one quartile, just sample all \n",
    "    sampled_contexts = sample_from_quartiles(df_scores, quartiles)\n",
    "\n",
    "    # load dataframe containing contexts\n",
    "    context_df =  pd.read_json(f\"..\\input_data\\{context_file}.json\", orient=\"columns\")\n",
    "\n",
    "    # save version of input_data that only contains the sampled contexts\n",
    "    context_df_subset = context_df[context_df[context_var].isin(sampled_contexts)]\n",
    "\n",
    "\n",
    "    context_df_subset.to_json(f\"../input_data/{context_file}__subset__{model_id}.json\")"
   ]
  },
  {
   "cell_type": "markdown",
   "metadata": {},
   "source": [
    "### Score descriptives & correlation between HS and BS"
   ]
  },
  {
   "cell_type": "code",
   "execution_count": 421,
   "metadata": {},
   "outputs": [
    {
     "name": "stdout",
     "output_type": "stream",
     "text": [
      "----TOTAL----\n",
      "mean: 2.3277027027027026\n",
      "var: 0.06067911131470454\n"
     ]
    }
   ],
   "source": [
    "print(\"----TOTAL----\")\n",
    "print(\"mean:\",df_scores[\"total\"].mean())\n",
    "print(\"var:\",df_scores[\"total\"].var())\n",
    "\n",
    "if task!=\"MSS\":\n",
    "    print(\"----HS----\")\n",
    "    print(\"mean:\",df_scores[\"HS\"].mean())\n",
    "    print(\"var:\",df_scores[\"HS\"].var())\n",
    "\n",
    "    print(\"----BS----\")\n",
    "    print(\"mean:\",df_scores[\"BS\"].mean())\n",
    "    print(\"var:\",df_scores[\"BS\"].var())\n",
    "\n",
    "    # correlation between HS and BS (drop nan rows beforehand)\n",
    "    df_scores_clean = df_scores[[\"HS\", \"BS\"]].dropna()\n",
    "    print(\"----Correlation between HS and BS----\")\n",
    "    print(stats.pearsonr(df_scores_clean[\"HS\"], df_scores_clean[\"BS\"]))"
   ]
  },
  {
   "cell_type": "markdown",
   "metadata": {},
   "source": [
    "### Plot scale score distribution"
   ]
  },
  {
   "cell_type": "code",
   "execution_count": 422,
   "metadata": {},
   "outputs": [
    {
     "data": {
      "image/png": "[encoded data removed]",
      "text/plain": [
       "<Figure size 1000x600 with 1 Axes>"
      ]
     },
     "metadata": {},
     "output_type": "display_data"
    }
   ],
   "source": [
    "if task==\"MSS\":\n",
    "    r = (1, 5)\n",
    "else:\n",
    "    r = (0, 5)\n",
    "\n",
    "plt.figure(figsize=(10, 6))\n",
    "plt.hist(df_scores[\"total\"], bins=20, range=r, edgecolor=\"black\", rwidth=1.0)\n",
    "\n",
    "# add labels and title\n",
    "plt.xlabel(f\"{task} score\", fontsize=12)\n",
    "plt.ylabel(\"Frequency\", fontsize=12)\n",
    "plt.title(f\"Distribution of {task} scores ({model_name}, {context_name})\", fontsize=14)\n",
    "\n",
    "plt.gca().xaxis.set_major_locator(MaxNLocator(integer=True))\n",
    "\n",
    "# save plot\n",
    "plt.savefig(f\"../../figures/distr_{task}_score__{model_id}__{context_file}.png\", bbox_inches=\"tight\")\n",
    "\n",
    "# show plot\n",
    "plt.tight_layout()\n",
    "plt.show()\n"
   ]
  },
  {
   "cell_type": "markdown",
   "metadata": {},
   "source": [
    "## Item statistics"
   ]
  },
  {
   "cell_type": "markdown",
   "metadata": {},
   "source": [
    "- mean\n",
    "- variance\n",
    "- difficulty\n",
    "- discrimination"
   ]
  },
  {
   "cell_type": "code",
   "execution_count": 423,
   "metadata": {},
   "outputs": [],
   "source": [
    "# set sample size\n",
    "n = 300\n",
    "# set number of answer options\n",
    "if task == \"MSS\":\n",
    "    k = 5\n",
    "else:\n",
    "    k = 6"
   ]
  },
  {
   "cell_type": "code",
   "execution_count": 424,
   "metadata": {},
   "outputs": [
    {
     "ename": "KeyError",
     "evalue": "'[10, 11, 14, 15, 16, 18, 21] not in index'",
     "output_type": "error",
     "traceback": [
      "\u001b[1;31m---------------------------------------------------------------------------\u001b[0m",
      "\u001b[1;31mKeyError\u001b[0m                                  Traceback (most recent call last)",
      "Cell \u001b[1;32mIn[424], line 13\u001b[0m\n\u001b[0;32m     10\u001b[0m difficulty_values \u001b[38;5;241m=\u001b[39m (df_wide\u001b[38;5;241m.\u001b[39msum(axis\u001b[38;5;241m=\u001b[39m\u001b[38;5;241m0\u001b[39m)\u001b[38;5;241m/\u001b[39m(n\u001b[38;5;241m*\u001b[39m(k\u001b[38;5;241m-\u001b[39m\u001b[38;5;241m1\u001b[39m)))\u001b[38;5;241m*\u001b[39m\u001b[38;5;241m100\u001b[39m\n\u001b[0;32m     12\u001b[0m \u001b[38;5;66;03m# discrimination: (incl. part-whole-correction)\u001b[39;00m\n\u001b[1;32m---> 13\u001b[0m h_score \u001b[38;5;241m=\u001b[39m \u001b[43mdf_wide\u001b[49m\u001b[43m[\u001b[49m\u001b[43mh_items\u001b[49m\u001b[43m]\u001b[49m\u001b[38;5;241m.\u001b[39msum(axis\u001b[38;5;241m=\u001b[39m\u001b[38;5;241m1\u001b[39m) \u001b[38;5;66;03m# mathematically no difference between sum and avg in this case and sum makes it easier to do part-whole-correction -> use sum instead of avg)\u001b[39;00m\n\u001b[0;32m     14\u001b[0m b_score \u001b[38;5;241m=\u001b[39m df_wide[b_items]\u001b[38;5;241m.\u001b[39msum(axis\u001b[38;5;241m=\u001b[39m\u001b[38;5;241m1\u001b[39m)\n\u001b[0;32m     16\u001b[0m discrimination_values \u001b[38;5;241m=\u001b[39m {}\n",
      "File \u001b[1;32mc:\\Users\\jana\\anaconda3\\envs\\Master_Thesis\\Lib\\site-packages\\pandas\\core\\frame.py:4108\u001b[0m, in \u001b[0;36mDataFrame.__getitem__\u001b[1;34m(self, key)\u001b[0m\n\u001b[0;32m   4106\u001b[0m     \u001b[38;5;28;01mif\u001b[39;00m is_iterator(key):\n\u001b[0;32m   4107\u001b[0m         key \u001b[38;5;241m=\u001b[39m \u001b[38;5;28mlist\u001b[39m(key)\n\u001b[1;32m-> 4108\u001b[0m     indexer \u001b[38;5;241m=\u001b[39m \u001b[38;5;28;43mself\u001b[39;49m\u001b[38;5;241;43m.\u001b[39;49m\u001b[43mcolumns\u001b[49m\u001b[38;5;241;43m.\u001b[39;49m\u001b[43m_get_indexer_strict\u001b[49m\u001b[43m(\u001b[49m\u001b[43mkey\u001b[49m\u001b[43m,\u001b[49m\u001b[43m \u001b[49m\u001b[38;5;124;43m\"\u001b[39;49m\u001b[38;5;124;43mcolumns\u001b[39;49m\u001b[38;5;124;43m\"\u001b[39;49m\u001b[43m)\u001b[49m[\u001b[38;5;241m1\u001b[39m]\n\u001b[0;32m   4110\u001b[0m \u001b[38;5;66;03m# take() does not accept boolean indexers\u001b[39;00m\n\u001b[0;32m   4111\u001b[0m \u001b[38;5;28;01mif\u001b[39;00m \u001b[38;5;28mgetattr\u001b[39m(indexer, \u001b[38;5;124m\"\u001b[39m\u001b[38;5;124mdtype\u001b[39m\u001b[38;5;124m\"\u001b[39m, \u001b[38;5;28;01mNone\u001b[39;00m) \u001b[38;5;241m==\u001b[39m \u001b[38;5;28mbool\u001b[39m:\n",
      "File \u001b[1;32mc:\\Users\\jana\\anaconda3\\envs\\Master_Thesis\\Lib\\site-packages\\pandas\\core\\indexes\\base.py:6200\u001b[0m, in \u001b[0;36mIndex._get_indexer_strict\u001b[1;34m(self, key, axis_name)\u001b[0m\n\u001b[0;32m   6197\u001b[0m \u001b[38;5;28;01melse\u001b[39;00m:\n\u001b[0;32m   6198\u001b[0m     keyarr, indexer, new_indexer \u001b[38;5;241m=\u001b[39m \u001b[38;5;28mself\u001b[39m\u001b[38;5;241m.\u001b[39m_reindex_non_unique(keyarr)\n\u001b[1;32m-> 6200\u001b[0m \u001b[38;5;28;43mself\u001b[39;49m\u001b[38;5;241;43m.\u001b[39;49m\u001b[43m_raise_if_missing\u001b[49m\u001b[43m(\u001b[49m\u001b[43mkeyarr\u001b[49m\u001b[43m,\u001b[49m\u001b[43m \u001b[49m\u001b[43mindexer\u001b[49m\u001b[43m,\u001b[49m\u001b[43m \u001b[49m\u001b[43maxis_name\u001b[49m\u001b[43m)\u001b[49m\n\u001b[0;32m   6202\u001b[0m keyarr \u001b[38;5;241m=\u001b[39m \u001b[38;5;28mself\u001b[39m\u001b[38;5;241m.\u001b[39mtake(indexer)\n\u001b[0;32m   6203\u001b[0m \u001b[38;5;28;01mif\u001b[39;00m \u001b[38;5;28misinstance\u001b[39m(key, Index):\n\u001b[0;32m   6204\u001b[0m     \u001b[38;5;66;03m# GH 42790 - Preserve name from an Index\u001b[39;00m\n",
      "File \u001b[1;32mc:\\Users\\jana\\anaconda3\\envs\\Master_Thesis\\Lib\\site-packages\\pandas\\core\\indexes\\base.py:6252\u001b[0m, in \u001b[0;36mIndex._raise_if_missing\u001b[1;34m(self, key, indexer, axis_name)\u001b[0m\n\u001b[0;32m   6249\u001b[0m     \u001b[38;5;28;01mraise\u001b[39;00m \u001b[38;5;167;01mKeyError\u001b[39;00m(\u001b[38;5;124mf\u001b[39m\u001b[38;5;124m\"\u001b[39m\u001b[38;5;124mNone of [\u001b[39m\u001b[38;5;132;01m{\u001b[39;00mkey\u001b[38;5;132;01m}\u001b[39;00m\u001b[38;5;124m] are in the [\u001b[39m\u001b[38;5;132;01m{\u001b[39;00maxis_name\u001b[38;5;132;01m}\u001b[39;00m\u001b[38;5;124m]\u001b[39m\u001b[38;5;124m\"\u001b[39m)\n\u001b[0;32m   6251\u001b[0m not_found \u001b[38;5;241m=\u001b[39m \u001b[38;5;28mlist\u001b[39m(ensure_index(key)[missing_mask\u001b[38;5;241m.\u001b[39mnonzero()[\u001b[38;5;241m0\u001b[39m]]\u001b[38;5;241m.\u001b[39munique())\n\u001b[1;32m-> 6252\u001b[0m \u001b[38;5;28;01mraise\u001b[39;00m \u001b[38;5;167;01mKeyError\u001b[39;00m(\u001b[38;5;124mf\u001b[39m\u001b[38;5;124m\"\u001b[39m\u001b[38;5;132;01m{\u001b[39;00mnot_found\u001b[38;5;132;01m}\u001b[39;00m\u001b[38;5;124m not in index\u001b[39m\u001b[38;5;124m\"\u001b[39m)\n",
      "\u001b[1;31mKeyError\u001b[0m: '[10, 11, 14, 15, 16, 18, 21] not in index'"
     ]
    }
   ],
   "source": [
    "# !!! code doesn't work for MSS\n",
    "\n",
    "# mean\n",
    "mean_values = df_wide.mean(axis=0)\n",
    "\n",
    "# variance\n",
    "variance_values = df_wide.var(axis=0)\n",
    "\n",
    "# difficulty\n",
    "difficulty_values = (df_wide.sum(axis=0)/(n*(k-1)))*100\n",
    "\n",
    "# discrimination: (incl. part-whole-correction)\n",
    "h_score = df_wide[h_items].sum(axis=1) # mathematically no difference between sum and avg in this case and sum makes it easier to do part-whole-correction -> use sum instead of avg)\n",
    "b_score = df_wide[b_items].sum(axis=1)\n",
    "\n",
    "discrimination_values = {}\n",
    "for col in df_wide.columns:\n",
    "    if col in h_items:\n",
    "        discrimination_values[col] = df_wide[col].corr(h_score - df_wide[col])\n",
    "    elif col in b_items:\n",
    "        discrimination_values[col] = df_wide[col].corr(b_score - df_wide[col])\n",
    "    else:\n",
    "        discrimination_values[col] = None \n",
    "\n",
    "\n",
    "df_item_stats = pd.DataFrame({\n",
    "    \"mean\": mean_values,\n",
    "    \"variance\": variance_values,\n",
    "    \"difficulty\": difficulty_values,\n",
    "    \"discrimination\": discrimination_values\n",
    "})\n",
    "\n",
    "df_item_stats.index.name = \"item\""
   ]
  },
  {
   "cell_type": "code",
   "execution_count": null,
   "metadata": {},
   "outputs": [
    {
     "data": {
      "text/html": [
       "<div>\n",
       "<style scoped>\n",
       "    .dataframe tbody tr th:only-of-type {\n",
       "        vertical-align: middle;\n",
       "    }\n",
       "\n",
       "    .dataframe tbody tr th {\n",
       "        vertical-align: top;\n",
       "    }\n",
       "\n",
       "    .dataframe thead th {\n",
       "        text-align: right;\n",
       "    }\n",
       "</style>\n",
       "<table border=\"1\" class=\"dataframe\">\n",
       "  <thead>\n",
       "    <tr style=\"text-align: right;\">\n",
       "      <th></th>\n",
       "      <th>mean</th>\n",
       "      <th>variance</th>\n",
       "      <th>difficulty</th>\n",
       "      <th>discrimination</th>\n",
       "    </tr>\n",
       "    <tr>\n",
       "      <th>item</th>\n",
       "      <th></th>\n",
       "      <th></th>\n",
       "      <th></th>\n",
       "      <th></th>\n",
       "    </tr>\n",
       "  </thead>\n",
       "  <tbody>\n",
       "    <tr>\n",
       "      <th>1</th>\n",
       "      <td>0.156667</td>\n",
       "      <td>0.319855</td>\n",
       "      <td>3.133333</td>\n",
       "      <td>0.343571</td>\n",
       "    </tr>\n",
       "    <tr>\n",
       "      <th>2</th>\n",
       "      <td>0.403333</td>\n",
       "      <td>0.475574</td>\n",
       "      <td>8.066667</td>\n",
       "      <td>0.210889</td>\n",
       "    </tr>\n",
       "    <tr>\n",
       "      <th>3</th>\n",
       "      <td>2.916667</td>\n",
       "      <td>1.902731</td>\n",
       "      <td>58.333333</td>\n",
       "      <td>-0.242627</td>\n",
       "    </tr>\n",
       "    <tr>\n",
       "      <th>4</th>\n",
       "      <td>3.233333</td>\n",
       "      <td>0.239688</td>\n",
       "      <td>64.666667</td>\n",
       "      <td>0.033462</td>\n",
       "    </tr>\n",
       "    <tr>\n",
       "      <th>5</th>\n",
       "      <td>0.203333</td>\n",
       "      <td>0.309688</td>\n",
       "      <td>4.066667</td>\n",
       "      <td>0.248071</td>\n",
       "    </tr>\n",
       "    <tr>\n",
       "      <th>6</th>\n",
       "      <td>1.060000</td>\n",
       "      <td>0.150234</td>\n",
       "      <td>21.200000</td>\n",
       "      <td>0.237525</td>\n",
       "    </tr>\n",
       "    <tr>\n",
       "      <th>7</th>\n",
       "      <td>1.893333</td>\n",
       "      <td>0.122363</td>\n",
       "      <td>37.866667</td>\n",
       "      <td>-0.027820</td>\n",
       "    </tr>\n",
       "    <tr>\n",
       "      <th>8</th>\n",
       "      <td>0.603333</td>\n",
       "      <td>0.962531</td>\n",
       "      <td>12.066667</td>\n",
       "      <td>0.277789</td>\n",
       "    </tr>\n",
       "    <tr>\n",
       "      <th>9</th>\n",
       "      <td>4.113333</td>\n",
       "      <td>0.595808</td>\n",
       "      <td>82.266667</td>\n",
       "      <td>0.118524</td>\n",
       "    </tr>\n",
       "    <tr>\n",
       "      <th>10</th>\n",
       "      <td>0.000000</td>\n",
       "      <td>0.000000</td>\n",
       "      <td>0.000000</td>\n",
       "      <td>NaN</td>\n",
       "    </tr>\n",
       "    <tr>\n",
       "      <th>11</th>\n",
       "      <td>0.000000</td>\n",
       "      <td>0.000000</td>\n",
       "      <td>0.000000</td>\n",
       "      <td>NaN</td>\n",
       "    </tr>\n",
       "    <tr>\n",
       "      <th>12</th>\n",
       "      <td>2.610000</td>\n",
       "      <td>1.576488</td>\n",
       "      <td>52.200000</td>\n",
       "      <td>0.214373</td>\n",
       "    </tr>\n",
       "    <tr>\n",
       "      <th>13</th>\n",
       "      <td>4.453333</td>\n",
       "      <td>1.445975</td>\n",
       "      <td>89.066667</td>\n",
       "      <td>-0.212579</td>\n",
       "    </tr>\n",
       "    <tr>\n",
       "      <th>14</th>\n",
       "      <td>0.083333</td>\n",
       "      <td>0.123467</td>\n",
       "      <td>1.666667</td>\n",
       "      <td>0.394395</td>\n",
       "    </tr>\n",
       "    <tr>\n",
       "      <th>15</th>\n",
       "      <td>0.013333</td>\n",
       "      <td>0.019889</td>\n",
       "      <td>0.266667</td>\n",
       "      <td>0.192234</td>\n",
       "    </tr>\n",
       "    <tr>\n",
       "      <th>16</th>\n",
       "      <td>0.190000</td>\n",
       "      <td>0.388528</td>\n",
       "      <td>3.800000</td>\n",
       "      <td>0.299540</td>\n",
       "    </tr>\n",
       "    <tr>\n",
       "      <th>17</th>\n",
       "      <td>0.186667</td>\n",
       "      <td>0.533601</td>\n",
       "      <td>3.733333</td>\n",
       "      <td>0.310948</td>\n",
       "    </tr>\n",
       "    <tr>\n",
       "      <th>18</th>\n",
       "      <td>4.356667</td>\n",
       "      <td>1.360658</td>\n",
       "      <td>87.133333</td>\n",
       "      <td>-0.349203</td>\n",
       "    </tr>\n",
       "    <tr>\n",
       "      <th>19</th>\n",
       "      <td>1.416667</td>\n",
       "      <td>1.641862</td>\n",
       "      <td>28.333333</td>\n",
       "      <td>0.419807</td>\n",
       "    </tr>\n",
       "    <tr>\n",
       "      <th>20</th>\n",
       "      <td>0.000000</td>\n",
       "      <td>0.000000</td>\n",
       "      <td>0.000000</td>\n",
       "      <td>NaN</td>\n",
       "    </tr>\n",
       "    <tr>\n",
       "      <th>21</th>\n",
       "      <td>1.976667</td>\n",
       "      <td>0.123200</td>\n",
       "      <td>39.533333</td>\n",
       "      <td>-0.074746</td>\n",
       "    </tr>\n",
       "    <tr>\n",
       "      <th>22</th>\n",
       "      <td>1.606667</td>\n",
       "      <td>1.550457</td>\n",
       "      <td>32.133333</td>\n",
       "      <td>0.408826</td>\n",
       "    </tr>\n",
       "  </tbody>\n",
       "</table>\n",
       "</div>"
      ],
      "text/plain": [
       "          mean  variance  difficulty  discrimination\n",
       "item                                                \n",
       "1     0.156667  0.319855    3.133333        0.343571\n",
       "2     0.403333  0.475574    8.066667        0.210889\n",
       "3     2.916667  1.902731   58.333333       -0.242627\n",
       "4     3.233333  0.239688   64.666667        0.033462\n",
       "5     0.203333  0.309688    4.066667        0.248071\n",
       "6     1.060000  0.150234   21.200000        0.237525\n",
       "7     1.893333  0.122363   37.866667       -0.027820\n",
       "8     0.603333  0.962531   12.066667        0.277789\n",
       "9     4.113333  0.595808   82.266667        0.118524\n",
       "10    0.000000  0.000000    0.000000             NaN\n",
       "11    0.000000  0.000000    0.000000             NaN\n",
       "12    2.610000  1.576488   52.200000        0.214373\n",
       "13    4.453333  1.445975   89.066667       -0.212579\n",
       "14    0.083333  0.123467    1.666667        0.394395\n",
       "15    0.013333  0.019889    0.266667        0.192234\n",
       "16    0.190000  0.388528    3.800000        0.299540\n",
       "17    0.186667  0.533601    3.733333        0.310948\n",
       "18    4.356667  1.360658   87.133333       -0.349203\n",
       "19    1.416667  1.641862   28.333333        0.419807\n",
       "20    0.000000  0.000000    0.000000             NaN\n",
       "21    1.976667  0.123200   39.533333       -0.074746\n",
       "22    1.606667  1.550457   32.133333        0.408826"
      ]
     },
     "execution_count": 296,
     "metadata": {},
     "output_type": "execute_result"
    }
   ],
   "source": [
    "df_item_stats"
   ]
  },
  {
   "cell_type": "code",
   "execution_count": null,
   "metadata": {},
   "outputs": [],
   "source": [
    "# safe ASI item stats to latex table\n",
    "if task == \"ASI\":\n",
    "    df_item_stats.to_latex(\n",
    "        buf = \"../../tables/item_stats__{model_id}__{context_file}.tex\".format(model_id=model_id, context_file=context_file),\n",
    "        header = [\"$\\mu$\", \"$\\sigma^2$\", \"difficulty\", \"discrimination\"],\n",
    "        na_rep = \"\",\n",
    "        float_format = \"%.2f\",\n",
    "        column_format = \"lSSSS\",\n",
    "        caption = \"ASI item statistics ({model_name}, {context_name})\".format(model_name=model_name, context_name=context_name),\n",
    "        label = \"tab:item_statistics__{model_id}__{context_file}\".format(model_id=model_id, context_file=context_file),\n",
    "        )"
   ]
  },
  {
   "cell_type": "markdown",
   "metadata": {},
   "source": [
    "### Plot histogram for each item"
   ]
  },
  {
   "cell_type": "code",
   "execution_count": null,
   "metadata": {},
   "outputs": [
    {
     "data": {
      "image/png": "[encoded data removed]",
      "text/plain": [
       "<Figure size 1500x1500 with 25 Axes>"
      ]
     },
     "metadata": {},
     "output_type": "display_data"
    }
   ],
   "source": [
    "# set number of bins depending on task\n",
    "if task ==\"MSS\":\n",
    "    b = 5\n",
    "else:\n",
    "    b = 6\n",
    "\n",
    "# Create a list of unique item_ids\n",
    "item_ids = df_clean['item_id'].unique()\n",
    "\n",
    "# Define the grid size\n",
    "n_items = len(item_ids)\n",
    "cols = 5  # Number of columns in the grid\n",
    "rows = -(-n_items // cols)  # Round up the number of rows\n",
    "\n",
    "# Determine the global range of the x-axis\n",
    "x_min = df_clean['answer_reversed'].min()\n",
    "x_max = df_clean['answer_reversed'].max()\n",
    "\n",
    "# Set the global range of the y-axis\n",
    "y_max = 330\n",
    "\n",
    "# Create a figure and axes for the grid\n",
    "fig, axes = plt.subplots(rows, cols, figsize=(15, rows * 3))\n",
    "axes = axes.flatten()\n",
    "\n",
    "# Loop through each item_id and create a histogram\n",
    "for i, item_id in enumerate(item_ids):\n",
    "    ax = axes[i]\n",
    "    # Filter the dataframe for the current item_id\n",
    "    data = df_clean[df_clean['item_id'] == item_id]['answer_reversed']\n",
    "    \n",
    "    # Plot the histogram with a fixed x-axis range and no spaces between bars\n",
    "    ax.hist(data, bins=b, range=(x_min, x_max), edgecolor='black', rwidth=1.0)\n",
    "    ax.set_title(f'Item {item_id}')\n",
    "    ax.set_xlabel('Answer')\n",
    "    ax.set_ylabel('Frequency')\n",
    "    \n",
    "    # Set x-axis ticks to show only the lowest and highest values\n",
    "    ax.set_xticks([x_min, x_max])\n",
    "    \n",
    "    # Set y-axis limit to ensure uniformity\n",
    "    ax.set_ylim(0, y_max)\n",
    "\n",
    "# Turn off unused subplots\n",
    "for j in range(i + 1, len(axes)):\n",
    "    axes[j].axis('off')\n",
    "\n",
    "# Add a title at the top of the grid\n",
    "fig.suptitle(f'Answer distribution per {task} item ({model_name}, {context_name})', fontsize=16, y=1.02)\n",
    "\n",
    "# save plot\n",
    "plt.savefig(f\"../../figures/distr_{task}_item__{model_id}__{context_file}.png\", bbox_inches=\"tight\")\n",
    "\n",
    "# Adjust layout \n",
    "plt.tight_layout(rect=[0, 0, 1, 1]) \n",
    "plt.show()"
   ]
  }
 ],
 "metadata": {
  "kernelspec": {
   "display_name": "Master_Thesis",
   "language": "python",
   "name": "python3"
  },
  "language_info": {
   "codemirror_mode": {
    "name": "ipython",
    "version": 3
   },
   "file_extension": ".py",
   "mimetype": "text/x-python",
   "name": "python",
   "nbconvert_exporter": "python",
   "pygments_lexer": "ipython3",
   "version": "3.11.10"
  }
 },
 "nbformat": 4,
 "nbformat_minor": 2
}
