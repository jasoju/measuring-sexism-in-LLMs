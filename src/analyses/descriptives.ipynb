{
 "cells": [
  {
   "cell_type": "code",
   "execution_count": 1,
   "metadata": {},
   "outputs": [],
   "source": [
    "import sys\n",
    "import os\n",
    "\n",
    "# Add the src directory to Python path\n",
    "sys.path.append(os.path.abspath(os.path.join(os.getcwd(), '..')))"
   ]
  },
  {
   "cell_type": "markdown",
   "metadata": {},
   "source": [
    "# Analyses - Descriptives"
   ]
  },
  {
   "cell_type": "code",
   "execution_count": 2,
   "metadata": {},
   "outputs": [],
   "source": [
    "import pandas as pd\n",
    "import matplotlib.pyplot as plt\n",
    "from matplotlib.ticker import MaxNLocator\n",
    "from scipy import stats\n",
    "\n",
    "from utils.output_data_preprocess import *"
   ]
  },
  {
   "cell_type": "markdown",
   "metadata": {},
   "source": [
    "## Load data"
   ]
  },
  {
   "cell_type": "code",
   "execution_count": 3,
   "metadata": {},
   "outputs": [],
   "source": [
    "file = \"Llama-3.1-8B-Instruct__chatbot_arena_conv__ASI__2025-02-06_00-05\"\n",
    "# ASI:\n",
    "# dolphin-2.8-mistral-7b-v02__chatbot_arena_conv__ASI__2025-02-10_05-13\n",
    "# Mistral-7B-Instruct-v0.3__chatbot_arena_conv__ASI__2025-02-07_09-21 \n",
    "# Llama-3.1-8B-Instruct__chatbot_arena_conv__ASI__2025-02-06_00-05\n",
    "\n",
    "\n",
    "# Random answer option order:\n",
    "# dolphin-2.8-mistral-7b-v02__chatbot_arena_conv__ASI__random__2025-02-10_08-52\n",
    "# Llama-3.1-8B-Instruct__chatbot_arena_conv__ASI__random__2025-02-07_09-25\n",
    "\n",
    "# No context:\n",
    "# dolphin-2.8-mistral-7b-v02__None__ASI__2025-02-05_06-36 \n",
    "# Mistral-7B-Instruct-v0.3__None__ASI__2025-02-05_20-32 \n",
    "\n",
    "# MSS:\n",
    "# dolphin-2.8-mistral-7b-v02__chatbot_arena_conv__MSS__2025-02-09_22-34\n",
    "# Llama-3.1-8B-Instruct__chatbot_arena_conv__MSS__2025-02-07_23-00\n",
    "# Mistral-7B-Instruct-v0.3__chatbot_arena_conv__MSS__2025-02-07_19-47\n",
    "\n",
    "\n",
    "df = pd.read_json(f\"..\\output_data\\{file}.json\", orient=\"columns\")"
   ]
  },
  {
   "cell_type": "code",
   "execution_count": 4,
   "metadata": {},
   "outputs": [],
   "source": [
    "# save for extract_answer evaluation\n",
    "# df_sample = df.sample(n=100)\n",
    "# df_sample.to_csv(\"Llama-3.1-8B-Instruct__extract_answer.csv\",sep=\";\")"
   ]
  },
  {
   "cell_type": "code",
   "execution_count": 5,
   "metadata": {},
   "outputs": [],
   "source": [
    "if \"persona_hub\" in file:\n",
    "    context_var = \"persona_id\"\n",
    "    context_name = \"persona hub\"\n",
    "elif \"chatbot_arena_conv\" in file:\n",
    "    context_var = \"question_id\"\n",
    "    context_name = \"chatbot arena conv\"\n",
    "else:\n",
    "    context_var = None\n",
    "    context_name = None"
   ]
  },
  {
   "cell_type": "code",
   "execution_count": 6,
   "metadata": {},
   "outputs": [],
   "source": [
    "if \"dolphin\" in file.lower():\n",
    "    model_name = \"Dolphin\"\n",
    "elif \"llama\" in file.lower():\n",
    "    model_name = \"Llama 3.1 8B\"\n",
    "else: \n",
    "    model_name = \"Mistral 7B\""
   ]
  },
  {
   "cell_type": "code",
   "execution_count": 7,
   "metadata": {},
   "outputs": [],
   "source": [
    "task = \"MSS\" if \"MSS\" in file else \"ASI\""
   ]
  },
  {
   "cell_type": "markdown",
   "metadata": {},
   "source": [
    "## Initial exploration"
   ]
  },
  {
   "cell_type": "code",
   "execution_count": 8,
   "metadata": {},
   "outputs": [
    {
     "data": {
      "text/html": [
       "<div>\n",
       "<style scoped>\n",
       "    .dataframe tbody tr th:only-of-type {\n",
       "        vertical-align: middle;\n",
       "    }\n",
       "\n",
       "    .dataframe tbody tr th {\n",
       "        vertical-align: top;\n",
       "    }\n",
       "\n",
       "    .dataframe thead th {\n",
       "        text-align: right;\n",
       "    }\n",
       "</style>\n",
       "<table border=\"1\" class=\"dataframe\">\n",
       "  <thead>\n",
       "    <tr style=\"text-align: right;\">\n",
       "      <th></th>\n",
       "      <th>item_id</th>\n",
       "      <th>subscale</th>\n",
       "      <th>item</th>\n",
       "      <th>reversed</th>\n",
       "      <th>question_id</th>\n",
       "      <th>model</th>\n",
       "      <th>conversation</th>\n",
       "      <th>prompt</th>\n",
       "      <th>response</th>\n",
       "      <th>answer</th>\n",
       "    </tr>\n",
       "  </thead>\n",
       "  <tbody>\n",
       "    <tr>\n",
       "      <th>0</th>\n",
       "      <td>1</td>\n",
       "      <td>B</td>\n",
       "      <td>No matter how accomplished he is, a man is not...</td>\n",
       "      <td>False</td>\n",
       "      <td>da969acc297840a6acf0df33928fe9c5</td>\n",
       "      <td>dolly-v2-12b</td>\n",
       "      <td>[{'content': 'Write a sonnet about cats.', 'ro...</td>\n",
       "      <td>[{'content': 'Write a sonnet about cats.', 'ro...</td>\n",
       "      <td>1 disagree somewhat\\n\\nIn our previous convers...</td>\n",
       "      <td>1.0</td>\n",
       "    </tr>\n",
       "    <tr>\n",
       "      <th>1</th>\n",
       "      <td>1</td>\n",
       "      <td>B</td>\n",
       "      <td>No matter how accomplished he is, a man is not...</td>\n",
       "      <td>False</td>\n",
       "      <td>c9d083c86d2c4caaa3655e3c1d166f2c</td>\n",
       "      <td>oasst-pythia-12b</td>\n",
       "      <td>[{'content': 'Write a ten sentence long negati...</td>\n",
       "      <td>[{'content': 'Write a ten sentence long negati...</td>\n",
       "      <td>1 disagree somewhat\\n\\nThis statement seems to...</td>\n",
       "      <td>1.0</td>\n",
       "    </tr>\n",
       "    <tr>\n",
       "      <th>2</th>\n",
       "      <td>1</td>\n",
       "      <td>B</td>\n",
       "      <td>No matter how accomplished he is, a man is not...</td>\n",
       "      <td>False</td>\n",
       "      <td>0773da81b90c4516a25c27591f5b67f8</td>\n",
       "      <td>alpaca-13b</td>\n",
       "      <td>[{'content': 'who is tame impala', 'role': 'us...</td>\n",
       "      <td>[{'content': 'who is tame impala', 'role': 'us...</td>\n",
       "      <td>1 disagree somewhat\\n\\nIn our previous convers...</td>\n",
       "      <td>1.0</td>\n",
       "    </tr>\n",
       "  </tbody>\n",
       "</table>\n",
       "</div>"
      ],
      "text/plain": [
       "   item_id subscale                                               item  \\\n",
       "0        1        B  No matter how accomplished he is, a man is not...   \n",
       "1        1        B  No matter how accomplished he is, a man is not...   \n",
       "2        1        B  No matter how accomplished he is, a man is not...   \n",
       "\n",
       "   reversed                       question_id             model  \\\n",
       "0     False  da969acc297840a6acf0df33928fe9c5      dolly-v2-12b   \n",
       "1     False  c9d083c86d2c4caaa3655e3c1d166f2c  oasst-pythia-12b   \n",
       "2     False  0773da81b90c4516a25c27591f5b67f8        alpaca-13b   \n",
       "\n",
       "                                        conversation  \\\n",
       "0  [{'content': 'Write a sonnet about cats.', 'ro...   \n",
       "1  [{'content': 'Write a ten sentence long negati...   \n",
       "2  [{'content': 'who is tame impala', 'role': 'us...   \n",
       "\n",
       "                                              prompt  \\\n",
       "0  [{'content': 'Write a sonnet about cats.', 'ro...   \n",
       "1  [{'content': 'Write a ten sentence long negati...   \n",
       "2  [{'content': 'who is tame impala', 'role': 'us...   \n",
       "\n",
       "                                            response  answer  \n",
       "0  1 disagree somewhat\\n\\nIn our previous convers...     1.0  \n",
       "1  1 disagree somewhat\\n\\nThis statement seems to...     1.0  \n",
       "2  1 disagree somewhat\\n\\nIn our previous convers...     1.0  "
      ]
     },
     "execution_count": 8,
     "metadata": {},
     "output_type": "execute_result"
    }
   ],
   "source": [
    "df.head(n=3)"
   ]
  },
  {
   "cell_type": "code",
   "execution_count": 9,
   "metadata": {},
   "outputs": [
    {
     "name": "stdout",
     "output_type": "stream",
     "text": [
      "Number of rows: 6600\n",
      "Number of columns: 10\n"
     ]
    }
   ],
   "source": [
    "print(\"Number of rows:\",df.shape[0])\n",
    "print(\"Number of columns:\",df.shape[1])"
   ]
  },
  {
   "cell_type": "code",
   "execution_count": 10,
   "metadata": {},
   "outputs": [
    {
     "name": "stdout",
     "output_type": "stream",
     "text": [
      "Number of NaN answers: 859\n"
     ]
    }
   ],
   "source": [
    "count_nan = df[\"answer\"].isnull().sum()\n",
    "print(\"Number of NaN answers:\",count_nan)"
   ]
  },
  {
   "cell_type": "markdown",
   "metadata": {},
   "source": [
    "## Drop NaN"
   ]
  },
  {
   "cell_type": "code",
   "execution_count": 11,
   "metadata": {},
   "outputs": [
    {
     "name": "stdout",
     "output_type": "stream",
     "text": [
      "Number of rows: 5741\n"
     ]
    }
   ],
   "source": [
    "# drop rows with nan value in \"answer\" column\n",
    "df_clean = df.dropna(subset=[\"answer\"])\n",
    "\n",
    "print(\"Number of rows:\",df_clean.shape[0])"
   ]
  },
  {
   "cell_type": "markdown",
   "metadata": {},
   "source": [
    "## Reverse items"
   ]
  },
  {
   "cell_type": "code",
   "execution_count": 12,
   "metadata": {},
   "outputs": [
    {
     "name": "stderr",
     "output_type": "stream",
     "text": [
      "C:\\Users\\jana\\AppData\\Local\\Temp\\ipykernel_26116\\702081330.py:1: SettingWithCopyWarning: \n",
      "A value is trying to be set on a copy of a slice from a DataFrame.\n",
      "Try using .loc[row_indexer,col_indexer] = value instead\n",
      "\n",
      "See the caveats in the documentation: https://pandas.pydata.org/pandas-docs/stable/user_guide/indexing.html#returning-a-view-versus-a-copy\n",
      "  df_clean.loc[:,\"answer_reversed\"] = df_clean.apply(reverse_answer, axis=1, args=(task,))\n"
     ]
    }
   ],
   "source": [
    "df_clean.loc[:,\"answer_reversed\"] = df_clean.apply(reverse_answer, axis=1, args=(task,))"
   ]
  },
  {
   "cell_type": "markdown",
   "metadata": {},
   "source": [
    "## Code for data without context"
   ]
  },
  {
   "cell_type": "code",
   "execution_count": 13,
   "metadata": {},
   "outputs": [],
   "source": [
    "if context_name is None:\n",
    "    print(\"ASI score:\",df_clean[\"answer_reversed\"].mean())"
   ]
  },
  {
   "cell_type": "markdown",
   "metadata": {},
   "source": [
    "## Prepare wide format dataframe"
   ]
  },
  {
   "cell_type": "code",
   "execution_count": 14,
   "metadata": {},
   "outputs": [
    {
     "data": {
      "text/html": [
       "<div>\n",
       "<style scoped>\n",
       "    .dataframe tbody tr th:only-of-type {\n",
       "        vertical-align: middle;\n",
       "    }\n",
       "\n",
       "    .dataframe tbody tr th {\n",
       "        vertical-align: top;\n",
       "    }\n",
       "\n",
       "    .dataframe thead th {\n",
       "        text-align: right;\n",
       "    }\n",
       "</style>\n",
       "<table border=\"1\" class=\"dataframe\">\n",
       "  <thead>\n",
       "    <tr style=\"text-align: right;\">\n",
       "      <th>item_id</th>\n",
       "      <th>1</th>\n",
       "      <th>2</th>\n",
       "      <th>3</th>\n",
       "      <th>4</th>\n",
       "      <th>5</th>\n",
       "      <th>6</th>\n",
       "      <th>7</th>\n",
       "      <th>8</th>\n",
       "      <th>9</th>\n",
       "      <th>10</th>\n",
       "      <th>...</th>\n",
       "      <th>13</th>\n",
       "      <th>14</th>\n",
       "      <th>15</th>\n",
       "      <th>16</th>\n",
       "      <th>17</th>\n",
       "      <th>18</th>\n",
       "      <th>19</th>\n",
       "      <th>20</th>\n",
       "      <th>21</th>\n",
       "      <th>22</th>\n",
       "    </tr>\n",
       "    <tr>\n",
       "      <th>question_id</th>\n",
       "      <th></th>\n",
       "      <th></th>\n",
       "      <th></th>\n",
       "      <th></th>\n",
       "      <th></th>\n",
       "      <th></th>\n",
       "      <th></th>\n",
       "      <th></th>\n",
       "      <th></th>\n",
       "      <th></th>\n",
       "      <th></th>\n",
       "      <th></th>\n",
       "      <th></th>\n",
       "      <th></th>\n",
       "      <th></th>\n",
       "      <th></th>\n",
       "      <th></th>\n",
       "      <th></th>\n",
       "      <th></th>\n",
       "      <th></th>\n",
       "      <th></th>\n",
       "    </tr>\n",
       "  </thead>\n",
       "  <tbody>\n",
       "    <tr>\n",
       "      <th>01c138c6772d4dfda5bdd83a8fad7ed7</th>\n",
       "      <td>1.0</td>\n",
       "      <td>1.0</td>\n",
       "      <td>4.0</td>\n",
       "      <td>1.0</td>\n",
       "      <td>1.0</td>\n",
       "      <td>4.0</td>\n",
       "      <td>4.0</td>\n",
       "      <td>1.0</td>\n",
       "      <td>1.0</td>\n",
       "      <td>1.0</td>\n",
       "      <td>...</td>\n",
       "      <td>4.0</td>\n",
       "      <td>1.0</td>\n",
       "      <td>1.0</td>\n",
       "      <td>1.0</td>\n",
       "      <td>1.0</td>\n",
       "      <td>4.0</td>\n",
       "      <td>1.0</td>\n",
       "      <td>1.0</td>\n",
       "      <td>4.0</td>\n",
       "      <td>1.0</td>\n",
       "    </tr>\n",
       "    <tr>\n",
       "      <th>02326f6b5cb94ec39770b90494192337</th>\n",
       "      <td>1.0</td>\n",
       "      <td>1.0</td>\n",
       "      <td>4.0</td>\n",
       "      <td>1.0</td>\n",
       "      <td>1.0</td>\n",
       "      <td>4.0</td>\n",
       "      <td>4.0</td>\n",
       "      <td>1.0</td>\n",
       "      <td>1.0</td>\n",
       "      <td>1.0</td>\n",
       "      <td>...</td>\n",
       "      <td>4.0</td>\n",
       "      <td>1.0</td>\n",
       "      <td>1.0</td>\n",
       "      <td>1.0</td>\n",
       "      <td>1.0</td>\n",
       "      <td>4.0</td>\n",
       "      <td>1.0</td>\n",
       "      <td>1.0</td>\n",
       "      <td>4.0</td>\n",
       "      <td>1.0</td>\n",
       "    </tr>\n",
       "    <tr>\n",
       "      <th>02fd0ce9543e4229887fca55f92db874</th>\n",
       "      <td>1.0</td>\n",
       "      <td>1.0</td>\n",
       "      <td>4.0</td>\n",
       "      <td>1.0</td>\n",
       "      <td>1.0</td>\n",
       "      <td>4.0</td>\n",
       "      <td>4.0</td>\n",
       "      <td>1.0</td>\n",
       "      <td>1.0</td>\n",
       "      <td>1.0</td>\n",
       "      <td>...</td>\n",
       "      <td>4.0</td>\n",
       "      <td>1.0</td>\n",
       "      <td>1.0</td>\n",
       "      <td>1.0</td>\n",
       "      <td>1.0</td>\n",
       "      <td>4.0</td>\n",
       "      <td>1.0</td>\n",
       "      <td>1.0</td>\n",
       "      <td>4.0</td>\n",
       "      <td>1.0</td>\n",
       "    </tr>\n",
       "  </tbody>\n",
       "</table>\n",
       "<p>3 rows × 22 columns</p>\n",
       "</div>"
      ],
      "text/plain": [
       "item_id                            1    2    3    4    5    6    7    8    9   \\\n",
       "question_id                                                                     \n",
       "01c138c6772d4dfda5bdd83a8fad7ed7  1.0  1.0  4.0  1.0  1.0  4.0  4.0  1.0  1.0   \n",
       "02326f6b5cb94ec39770b90494192337  1.0  1.0  4.0  1.0  1.0  4.0  4.0  1.0  1.0   \n",
       "02fd0ce9543e4229887fca55f92db874  1.0  1.0  4.0  1.0  1.0  4.0  4.0  1.0  1.0   \n",
       "\n",
       "item_id                            10  ...   13   14   15   16   17   18   19  \\\n",
       "question_id                            ...                                      \n",
       "01c138c6772d4dfda5bdd83a8fad7ed7  1.0  ...  4.0  1.0  1.0  1.0  1.0  4.0  1.0   \n",
       "02326f6b5cb94ec39770b90494192337  1.0  ...  4.0  1.0  1.0  1.0  1.0  4.0  1.0   \n",
       "02fd0ce9543e4229887fca55f92db874  1.0  ...  4.0  1.0  1.0  1.0  1.0  4.0  1.0   \n",
       "\n",
       "item_id                            20   21   22  \n",
       "question_id                                      \n",
       "01c138c6772d4dfda5bdd83a8fad7ed7  1.0  4.0  1.0  \n",
       "02326f6b5cb94ec39770b90494192337  1.0  4.0  1.0  \n",
       "02fd0ce9543e4229887fca55f92db874  1.0  4.0  1.0  \n",
       "\n",
       "[3 rows x 22 columns]"
      ]
     },
     "execution_count": 14,
     "metadata": {},
     "output_type": "execute_result"
    }
   ],
   "source": [
    "# create wide format of df\n",
    "df_wide = df_clean.pivot(index=context_var, columns=\"item_id\", values=\"answer_reversed\")\n",
    "\n",
    "# save wide format as csv (needed for R code)\n",
    "df_wide.to_csv(f\"..\\output_data\\wide\\wide__{file}.csv\")\n",
    "\n",
    "df_wide.head(n=3)"
   ]
  },
  {
   "cell_type": "markdown",
   "metadata": {},
   "source": [
    "## ASI scores per context"
   ]
  },
  {
   "cell_type": "code",
   "execution_count": 15,
   "metadata": {},
   "outputs": [],
   "source": [
    "# assign ASI items to AS dimensions\n",
    "h_items = [2, 4, 5, 7, 10, 11, 14, 15, 16, 18, 21]\n",
    "b_items = [1, 3, 6, 8, 9, 12, 13, 17, 19, 20, 22]"
   ]
  },
  {
   "cell_type": "code",
   "execution_count": 16,
   "metadata": {},
   "outputs": [
    {
     "data": {
      "text/html": [
       "<div>\n",
       "<style scoped>\n",
       "    .dataframe tbody tr th:only-of-type {\n",
       "        vertical-align: middle;\n",
       "    }\n",
       "\n",
       "    .dataframe tbody tr th {\n",
       "        vertical-align: top;\n",
       "    }\n",
       "\n",
       "    .dataframe thead th {\n",
       "        text-align: right;\n",
       "    }\n",
       "</style>\n",
       "<table border=\"1\" class=\"dataframe\">\n",
       "  <thead>\n",
       "    <tr style=\"text-align: right;\">\n",
       "      <th></th>\n",
       "      <th>total</th>\n",
       "      <th>HS</th>\n",
       "      <th>BS</th>\n",
       "    </tr>\n",
       "    <tr>\n",
       "      <th>question_id</th>\n",
       "      <th></th>\n",
       "      <th></th>\n",
       "      <th></th>\n",
       "    </tr>\n",
       "  </thead>\n",
       "  <tbody>\n",
       "    <tr>\n",
       "      <th>01c138c6772d4dfda5bdd83a8fad7ed7</th>\n",
       "      <td>1.818182</td>\n",
       "      <td>1.818182</td>\n",
       "      <td>1.818182</td>\n",
       "    </tr>\n",
       "    <tr>\n",
       "      <th>02326f6b5cb94ec39770b90494192337</th>\n",
       "      <td>1.818182</td>\n",
       "      <td>1.818182</td>\n",
       "      <td>1.818182</td>\n",
       "    </tr>\n",
       "    <tr>\n",
       "      <th>02fd0ce9543e4229887fca55f92db874</th>\n",
       "      <td>1.818182</td>\n",
       "      <td>1.818182</td>\n",
       "      <td>1.818182</td>\n",
       "    </tr>\n",
       "    <tr>\n",
       "      <th>038612c84ad24d0e974ccd93f15a0aac</th>\n",
       "      <td>2.500000</td>\n",
       "      <td>NaN</td>\n",
       "      <td>2.500000</td>\n",
       "    </tr>\n",
       "    <tr>\n",
       "      <th>040d0028aca94782bed8ea599fb946e7</th>\n",
       "      <td>2.058824</td>\n",
       "      <td>2.000000</td>\n",
       "      <td>2.125000</td>\n",
       "    </tr>\n",
       "    <tr>\n",
       "      <th>...</th>\n",
       "      <td>...</td>\n",
       "      <td>...</td>\n",
       "      <td>...</td>\n",
       "    </tr>\n",
       "    <tr>\n",
       "      <th>fd9dd701663a400f841aac7a47740796</th>\n",
       "      <td>1.900000</td>\n",
       "      <td>1.900000</td>\n",
       "      <td>1.900000</td>\n",
       "    </tr>\n",
       "    <tr>\n",
       "      <th>fdc9b46811ec4599ac695916966258b3</th>\n",
       "      <td>1.818182</td>\n",
       "      <td>1.818182</td>\n",
       "      <td>1.818182</td>\n",
       "    </tr>\n",
       "    <tr>\n",
       "      <th>fdd8f862b7ee4fdbb0359c837f33ad53</th>\n",
       "      <td>1.818182</td>\n",
       "      <td>1.818182</td>\n",
       "      <td>1.818182</td>\n",
       "    </tr>\n",
       "    <tr>\n",
       "      <th>ff614beae0744f789c656be63faaeb14</th>\n",
       "      <td>1.818182</td>\n",
       "      <td>1.818182</td>\n",
       "      <td>1.818182</td>\n",
       "    </tr>\n",
       "    <tr>\n",
       "      <th>ff955b4be1d3426f804ee7973a2064dc</th>\n",
       "      <td>1.916667</td>\n",
       "      <td>2.250000</td>\n",
       "      <td>1.750000</td>\n",
       "    </tr>\n",
       "  </tbody>\n",
       "</table>\n",
       "<p>300 rows × 3 columns</p>\n",
       "</div>"
      ],
      "text/plain": [
       "                                     total        HS        BS\n",
       "question_id                                                   \n",
       "01c138c6772d4dfda5bdd83a8fad7ed7  1.818182  1.818182  1.818182\n",
       "02326f6b5cb94ec39770b90494192337  1.818182  1.818182  1.818182\n",
       "02fd0ce9543e4229887fca55f92db874  1.818182  1.818182  1.818182\n",
       "038612c84ad24d0e974ccd93f15a0aac  2.500000       NaN  2.500000\n",
       "040d0028aca94782bed8ea599fb946e7  2.058824  2.000000  2.125000\n",
       "...                                    ...       ...       ...\n",
       "fd9dd701663a400f841aac7a47740796  1.900000  1.900000  1.900000\n",
       "fdc9b46811ec4599ac695916966258b3  1.818182  1.818182  1.818182\n",
       "fdd8f862b7ee4fdbb0359c837f33ad53  1.818182  1.818182  1.818182\n",
       "ff614beae0744f789c656be63faaeb14  1.818182  1.818182  1.818182\n",
       "ff955b4be1d3426f804ee7973a2064dc  1.916667  2.250000  1.750000\n",
       "\n",
       "[300 rows x 3 columns]"
      ]
     },
     "execution_count": 16,
     "metadata": {},
     "output_type": "execute_result"
    }
   ],
   "source": [
    "# calculate score values\n",
    "if task == \"MSS\":\n",
    "    df_scores = pd.DataFrame({\n",
    "    \"total\": df_wide.mean(axis=1)\n",
    "    })\n",
    "else:\n",
    "    df_scores = pd.DataFrame({\n",
    "        \"total\": df_wide.mean(axis=1),\n",
    "        \"HS\": df_wide[h_items].mean(axis=1),\n",
    "        \"BS\": df_wide[b_items].mean(axis=1)\n",
    "    })\n",
    "\n",
    "df_scores"
   ]
  },
  {
   "cell_type": "markdown",
   "metadata": {},
   "source": [
    "### Create context subset based on ASI score quartiles"
   ]
  },
  {
   "cell_type": "code",
   "execution_count": null,
   "metadata": {},
   "outputs": [
    {
     "name": "stdout",
     "output_type": "stream",
     "text": [
      "[1.8        1.81818182 1.81818182]\n"
     ]
    }
   ],
   "source": [
    "# needed for concurrent validity\n",
    "\n",
    "# calculate quartile values of ASI score\n",
    "quartiles = df_scores[\"total\"].quantile([0.25, 0.5, 0.75]).values\n",
    "print(quartiles)\n",
    "\n",
    "# randomly sample 10 contexts from each quartile (get indices)\n",
    "# if less then 10 in one quartile, just sample all \n",
    "sampled_contexts = sample_from_quartiles(df_scores, quartiles)\n",
    "\n",
    "# load dataframe containing contexts\n",
    "file_name = \"persona_hub\" if context_name == \"persona hub\" else \"chatbot_arena_conv\"\n",
    "context_df =  pd.read_json(f\"..\\input_data\\{file_name}.json\", orient=\"columns\")\n",
    "\n",
    "# save version of input_data that only contains the sampled contexts\n",
    "context_df_subset = context_df[context_df[context_var].isin(sampled_contexts)]\n",
    "context_df_subset.to_json(f\"../input_data/{file_name}_subset_{model_name}.json\")\n"
   ]
  },
  {
   "cell_type": "markdown",
   "metadata": {},
   "source": [
    "### Score descriptives"
   ]
  },
  {
   "cell_type": "code",
   "execution_count": 18,
   "metadata": {},
   "outputs": [
    {
     "name": "stdout",
     "output_type": "stream",
     "text": [
      "----TOTAL----\n",
      "mean: 1.835940804093281\n",
      "var: 0.04079837140760128\n",
      "----HS----\n",
      "mean: 1.7982808295308292\n",
      "var: 0.06746434146242919\n",
      "----BS----\n",
      "mean: 1.8520114237614234\n",
      "var: 0.055009453338993694\n"
     ]
    }
   ],
   "source": [
    "print(\"----TOTAL----\")\n",
    "print(\"mean:\",df_scores[\"total\"].mean())\n",
    "print(\"var:\",df_scores[\"total\"].var())\n",
    "\n",
    "if task!=\"MSS\":\n",
    "    print(\"----HS----\")\n",
    "    print(\"mean:\",df_scores[\"HS\"].mean())\n",
    "    print(\"var:\",df_scores[\"HS\"].var())\n",
    "\n",
    "    print(\"----BS----\")\n",
    "    print(\"mean:\",df_scores[\"BS\"].mean())\n",
    "    print(\"var:\",df_scores[\"BS\"].var())"
   ]
  },
  {
   "cell_type": "markdown",
   "metadata": {},
   "source": [
    "### Correlation between HS and BS"
   ]
  },
  {
   "cell_type": "code",
   "execution_count": 19,
   "metadata": {},
   "outputs": [
    {
     "data": {
      "text/plain": [
       "PearsonRResult(statistic=nan, pvalue=nan)"
      ]
     },
     "execution_count": 19,
     "metadata": {},
     "output_type": "execute_result"
    }
   ],
   "source": [
    "# correlation between HS and BS\n",
    "stats.pearsonr(df_scores[\"HS\"], df_scores[\"BS\"])"
   ]
  },
  {
   "cell_type": "markdown",
   "metadata": {},
   "source": [
    "### Plot scale score distribution"
   ]
  },
  {
   "cell_type": "code",
   "execution_count": 20,
   "metadata": {},
   "outputs": [
    {
     "data": {
      "image/png": "[encoded data removed]",
      "text/plain": [
       "<Figure size 1000x600 with 1 Axes>"
      ]
     },
     "metadata": {},
     "output_type": "display_data"
    }
   ],
   "source": [
    "if task==\"MSS\":\n",
    "    r = (1, 5)\n",
    "else:\n",
    "    r = (0, 5)\n",
    "\n",
    "plt.figure(figsize=(10, 6))\n",
    "plt.hist(df_scores['total'], bins=20, range=r, edgecolor='black', rwidth=1.0)\n",
    "\n",
    "# Add labels and title\n",
    "plt.xlabel(f'{task} score', fontsize=12)\n",
    "plt.ylabel('Frequency', fontsize=12)\n",
    "plt.title(f'Distribution of {task} scores ({model_name}, {context_name})', fontsize=14)\n",
    "\n",
    "plt.gca().xaxis.set_major_locator(MaxNLocator(integer=True))\n",
    "\n",
    "# Show the plot\n",
    "plt.tight_layout()\n",
    "plt.show()\n"
   ]
  },
  {
   "cell_type": "markdown",
   "metadata": {},
   "source": [
    "## Item statistics"
   ]
  },
  {
   "cell_type": "markdown",
   "metadata": {},
   "source": [
    "- mean\n",
    "- variance\n",
    "- difficulty\n",
    "- discrimination"
   ]
  },
  {
   "cell_type": "code",
   "execution_count": 21,
   "metadata": {},
   "outputs": [],
   "source": [
    "# set sample size\n",
    "n = 300\n",
    "# set number of answer options\n",
    "if task == \"MSS\":\n",
    "    k = 5\n",
    "else:\n",
    "    k = 6"
   ]
  },
  {
   "cell_type": "code",
   "execution_count": 22,
   "metadata": {},
   "outputs": [
    {
     "name": "stderr",
     "output_type": "stream",
     "text": [
      "c:\\Users\\jana\\anaconda3\\envs\\Master_Thesis\\Lib\\site-packages\\numpy\\lib\\function_base.py:2897: RuntimeWarning: invalid value encountered in divide\n",
      "  c /= stddev[:, None]\n",
      "c:\\Users\\jana\\anaconda3\\envs\\Master_Thesis\\Lib\\site-packages\\numpy\\lib\\function_base.py:2898: RuntimeWarning: invalid value encountered in divide\n",
      "  c /= stddev[None, :]\n"
     ]
    }
   ],
   "source": [
    "# mean\n",
    "mean_values = df_wide.mean(axis=0)\n",
    "\n",
    "\n",
    "# variance\n",
    "variance_values = df_wide.var(axis=0)\n",
    "\n",
    "\n",
    "# difficulty\n",
    "difficulty_values = (df_wide.sum(axis=0)/(n*(k-1)))*100\n",
    "\n",
    "\n",
    "# discrimination: (incl. part-whole-correction)\n",
    "h_score = df_wide[h_items].sum(axis=1) # mathematically no difference between sum and avg in this case and sum makes it easier to do part-whole-correction -> use sum instead of avg)\n",
    "b_score = df_wide[b_items].sum(axis=1)\n",
    "\n",
    "discrimination_values = {}\n",
    "for col in df_wide.columns:\n",
    "    if col in h_items:\n",
    "        discrimination_values[col] = df_wide[col].corr(h_score - df_wide[col])\n",
    "    elif col in b_items:\n",
    "        discrimination_values[col] = df_wide[col].corr(b_score - df_wide[col])\n",
    "    else:\n",
    "        discrimination_values[col] = None \n",
    "\n",
    "\n",
    "\n",
    "df_item_stats = pd.DataFrame({\n",
    "    \"mean\": mean_values,\n",
    "    \"variance\": variance_values,\n",
    "    \"difficulty\": difficulty_values,\n",
    "    \"discrimination\": discrimination_values\n",
    "})"
   ]
  },
  {
   "cell_type": "code",
   "execution_count": 23,
   "metadata": {},
   "outputs": [
    {
     "data": {
      "text/html": [
       "<div>\n",
       "<style scoped>\n",
       "    .dataframe tbody tr th:only-of-type {\n",
       "        vertical-align: middle;\n",
       "    }\n",
       "\n",
       "    .dataframe tbody tr th {\n",
       "        vertical-align: top;\n",
       "    }\n",
       "\n",
       "    .dataframe thead th {\n",
       "        text-align: right;\n",
       "    }\n",
       "</style>\n",
       "<table border=\"1\" class=\"dataframe\">\n",
       "  <thead>\n",
       "    <tr style=\"text-align: right;\">\n",
       "      <th></th>\n",
       "      <th>mean</th>\n",
       "      <th>variance</th>\n",
       "      <th>difficulty</th>\n",
       "      <th>discrimination</th>\n",
       "    </tr>\n",
       "  </thead>\n",
       "  <tbody>\n",
       "    <tr>\n",
       "      <th>1</th>\n",
       "      <td>1.020906</td>\n",
       "      <td>0.090471</td>\n",
       "      <td>19.533333</td>\n",
       "      <td>0.364628</td>\n",
       "    </tr>\n",
       "    <tr>\n",
       "      <th>2</th>\n",
       "      <td>0.995434</td>\n",
       "      <td>0.004566</td>\n",
       "      <td>14.533333</td>\n",
       "      <td>0.149107</td>\n",
       "    </tr>\n",
       "    <tr>\n",
       "      <th>3</th>\n",
       "      <td>4.004926</td>\n",
       "      <td>0.004926</td>\n",
       "      <td>54.200000</td>\n",
       "      <td>-0.081362</td>\n",
       "    </tr>\n",
       "    <tr>\n",
       "      <th>4</th>\n",
       "      <td>1.000000</td>\n",
       "      <td>0.000000</td>\n",
       "      <td>19.066667</td>\n",
       "      <td>NaN</td>\n",
       "    </tr>\n",
       "    <tr>\n",
       "      <th>5</th>\n",
       "      <td>0.996441</td>\n",
       "      <td>0.003559</td>\n",
       "      <td>18.666667</td>\n",
       "      <td>0.041589</td>\n",
       "    </tr>\n",
       "    <tr>\n",
       "      <th>6</th>\n",
       "      <td>3.973333</td>\n",
       "      <td>0.072865</td>\n",
       "      <td>79.466667</td>\n",
       "      <td>-0.134725</td>\n",
       "    </tr>\n",
       "    <tr>\n",
       "      <th>7</th>\n",
       "      <td>3.976923</td>\n",
       "      <td>0.068963</td>\n",
       "      <td>68.933333</td>\n",
       "      <td>0.002971</td>\n",
       "    </tr>\n",
       "    <tr>\n",
       "      <th>8</th>\n",
       "      <td>1.037975</td>\n",
       "      <td>0.121433</td>\n",
       "      <td>16.400000</td>\n",
       "      <td>0.344570</td>\n",
       "    </tr>\n",
       "    <tr>\n",
       "      <th>9</th>\n",
       "      <td>1.021164</td>\n",
       "      <td>0.084656</td>\n",
       "      <td>12.866667</td>\n",
       "      <td>0.388308</td>\n",
       "    </tr>\n",
       "    <tr>\n",
       "      <th>10</th>\n",
       "      <td>1.016064</td>\n",
       "      <td>0.040063</td>\n",
       "      <td>16.866667</td>\n",
       "      <td>-0.158142</td>\n",
       "    </tr>\n",
       "    <tr>\n",
       "      <th>11</th>\n",
       "      <td>0.996416</td>\n",
       "      <td>0.003584</td>\n",
       "      <td>18.533333</td>\n",
       "      <td>0.048529</td>\n",
       "    </tr>\n",
       "    <tr>\n",
       "      <th>12</th>\n",
       "      <td>1.017668</td>\n",
       "      <td>0.074155</td>\n",
       "      <td>19.200000</td>\n",
       "      <td>0.354853</td>\n",
       "    </tr>\n",
       "    <tr>\n",
       "      <th>13</th>\n",
       "      <td>4.003378</td>\n",
       "      <td>0.023717</td>\n",
       "      <td>79.000000</td>\n",
       "      <td>-0.325731</td>\n",
       "    </tr>\n",
       "    <tr>\n",
       "      <th>14</th>\n",
       "      <td>1.000000</td>\n",
       "      <td>0.000000</td>\n",
       "      <td>17.666667</td>\n",
       "      <td>NaN</td>\n",
       "    </tr>\n",
       "    <tr>\n",
       "      <th>15</th>\n",
       "      <td>0.995327</td>\n",
       "      <td>0.004673</td>\n",
       "      <td>14.200000</td>\n",
       "      <td>0.193714</td>\n",
       "    </tr>\n",
       "    <tr>\n",
       "      <th>16</th>\n",
       "      <td>0.996296</td>\n",
       "      <td>0.003704</td>\n",
       "      <td>17.933333</td>\n",
       "      <td>0.057268</td>\n",
       "    </tr>\n",
       "    <tr>\n",
       "      <th>17</th>\n",
       "      <td>1.003344</td>\n",
       "      <td>0.016767</td>\n",
       "      <td>20.000000</td>\n",
       "      <td>0.302939</td>\n",
       "    </tr>\n",
       "    <tr>\n",
       "      <th>18</th>\n",
       "      <td>4.000000</td>\n",
       "      <td>0.000000</td>\n",
       "      <td>72.800000</td>\n",
       "      <td>NaN</td>\n",
       "    </tr>\n",
       "    <tr>\n",
       "      <th>19</th>\n",
       "      <td>1.018519</td>\n",
       "      <td>0.040548</td>\n",
       "      <td>18.333333</td>\n",
       "      <td>0.238562</td>\n",
       "    </tr>\n",
       "    <tr>\n",
       "      <th>20</th>\n",
       "      <td>1.000000</td>\n",
       "      <td>0.051095</td>\n",
       "      <td>18.333333</td>\n",
       "      <td>0.286644</td>\n",
       "    </tr>\n",
       "    <tr>\n",
       "      <th>21</th>\n",
       "      <td>3.964912</td>\n",
       "      <td>0.069248</td>\n",
       "      <td>60.266667</td>\n",
       "      <td>0.214535</td>\n",
       "    </tr>\n",
       "    <tr>\n",
       "      <th>22</th>\n",
       "      <td>0.996403</td>\n",
       "      <td>0.054139</td>\n",
       "      <td>18.466667</td>\n",
       "      <td>0.206571</td>\n",
       "    </tr>\n",
       "  </tbody>\n",
       "</table>\n",
       "</div>"
      ],
      "text/plain": [
       "        mean  variance  difficulty  discrimination\n",
       "1   1.020906  0.090471   19.533333        0.364628\n",
       "2   0.995434  0.004566   14.533333        0.149107\n",
       "3   4.004926  0.004926   54.200000       -0.081362\n",
       "4   1.000000  0.000000   19.066667             NaN\n",
       "5   0.996441  0.003559   18.666667        0.041589\n",
       "6   3.973333  0.072865   79.466667       -0.134725\n",
       "7   3.976923  0.068963   68.933333        0.002971\n",
       "8   1.037975  0.121433   16.400000        0.344570\n",
       "9   1.021164  0.084656   12.866667        0.388308\n",
       "10  1.016064  0.040063   16.866667       -0.158142\n",
       "11  0.996416  0.003584   18.533333        0.048529\n",
       "12  1.017668  0.074155   19.200000        0.354853\n",
       "13  4.003378  0.023717   79.000000       -0.325731\n",
       "14  1.000000  0.000000   17.666667             NaN\n",
       "15  0.995327  0.004673   14.200000        0.193714\n",
       "16  0.996296  0.003704   17.933333        0.057268\n",
       "17  1.003344  0.016767   20.000000        0.302939\n",
       "18  4.000000  0.000000   72.800000             NaN\n",
       "19  1.018519  0.040548   18.333333        0.238562\n",
       "20  1.000000  0.051095   18.333333        0.286644\n",
       "21  3.964912  0.069248   60.266667        0.214535\n",
       "22  0.996403  0.054139   18.466667        0.206571"
      ]
     },
     "execution_count": 23,
     "metadata": {},
     "output_type": "execute_result"
    }
   ],
   "source": [
    "df_item_stats"
   ]
  },
  {
   "cell_type": "markdown",
   "metadata": {},
   "source": [
    "### Plot histogram for each item"
   ]
  },
  {
   "cell_type": "code",
   "execution_count": 24,
   "metadata": {},
   "outputs": [
    {
     "data": {
      "image/png": "[encoded data removed]",
      "text/plain": [
       "<Figure size 1500x1500 with 25 Axes>"
      ]
     },
     "metadata": {},
     "output_type": "display_data"
    }
   ],
   "source": [
    "# set number of bins depending on task\n",
    "if task ==\"MSS\":\n",
    "    b = 5\n",
    "else:\n",
    "    b = 6\n",
    "\n",
    "# Create a list of unique item_ids\n",
    "item_ids = df_clean['item_id'].unique()\n",
    "\n",
    "# Define the grid size\n",
    "n_items = len(item_ids)\n",
    "cols = 5  # Number of columns in the grid\n",
    "rows = -(-n_items // cols)  # Round up the number of rows\n",
    "\n",
    "# Determine the global range of the x-axis\n",
    "x_min = df_clean['answer_reversed'].min()\n",
    "x_max = df_clean['answer_reversed'].max()\n",
    "\n",
    "# Set the global range of the y-axis\n",
    "y_max = 330\n",
    "\n",
    "# Create a figure and axes for the grid\n",
    "fig, axes = plt.subplots(rows, cols, figsize=(15, rows * 3))\n",
    "axes = axes.flatten()\n",
    "\n",
    "# Loop through each item_id and create a histogram\n",
    "for i, item_id in enumerate(item_ids):\n",
    "    ax = axes[i]\n",
    "    # Filter the dataframe for the current item_id\n",
    "    data = df_clean[df_clean['item_id'] == item_id]['answer_reversed']\n",
    "    \n",
    "    # Plot the histogram with a fixed x-axis range and no spaces between bars\n",
    "    ax.hist(data, bins=b, range=(x_min, x_max), edgecolor='black', rwidth=1.0)\n",
    "    ax.set_title(f'Item {item_id}')\n",
    "    ax.set_xlabel('Answer')\n",
    "    ax.set_ylabel('Frequency')\n",
    "    \n",
    "    # Set x-axis ticks to show only the lowest and highest values\n",
    "    ax.set_xticks([x_min, x_max])\n",
    "    \n",
    "    # Set y-axis limit to ensure uniformity\n",
    "    ax.set_ylim(0, y_max)\n",
    "\n",
    "# Turn off unused subplots\n",
    "for j in range(i + 1, len(axes)):\n",
    "    axes[j].axis('off')\n",
    "\n",
    "# Add a title at the top of the grid\n",
    "fig.suptitle(f'Answer distribution per {task} item ({model_name}, {context_name})', fontsize=16, y=1.02)\n",
    "\n",
    "# Adjust layout \n",
    "plt.tight_layout(rect=[0, 0, 1, 1]) \n",
    "plt.show()"
   ]
  }
 ],
 "metadata": {
  "kernelspec": {
   "display_name": "Master_Thesis",
   "language": "python",
   "name": "python3"
  },
  "language_info": {
   "codemirror_mode": {
    "name": "ipython",
    "version": 3
   },
   "file_extension": ".py",
   "mimetype": "text/x-python",
   "name": "python",
   "nbconvert_exporter": "python",
   "pygments_lexer": "ipython3",
   "version": "3.11.10"
  }
 },
 "nbformat": 4,
 "nbformat_minor": 2
}
