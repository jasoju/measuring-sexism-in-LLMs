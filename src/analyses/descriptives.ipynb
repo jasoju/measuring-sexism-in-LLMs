{
 "cells": [
  {
   "cell_type": "code",
   "execution_count": 43,
   "metadata": {},
   "outputs": [],
   "source": [
    "import sys\n",
    "import os\n",
    "\n",
    "# Add the src directory to Python path\n",
    "sys.path.append(os.path.abspath(os.path.join(os.getcwd(), '..')))"
   ]
  },
  {
   "cell_type": "markdown",
   "metadata": {},
   "source": [
    "# Analyses - Descriptives"
   ]
  },
  {
   "cell_type": "code",
   "execution_count": 44,
   "metadata": {},
   "outputs": [],
   "source": [
    "import pandas as pd\n",
    "import matplotlib.pyplot as plt\n",
    "\n",
    "from utils.output_data_preprocess import *"
   ]
  },
  {
   "cell_type": "markdown",
   "metadata": {},
   "source": [
    "## Load data"
   ]
  },
  {
   "cell_type": "code",
   "execution_count": 45,
   "metadata": {},
   "outputs": [],
   "source": [
    "file = \"dolphin-2.8-mistral-7b-v02__chatbot_arena_conv__ASI__2025-01-08_22-59\"\n",
    "# Mistral-7B-Instruct-v0.3__chatbot_arena_conv__ASI__2024-12-30_19-25\n",
    "# Mistral-7B-Instruct-v0.3__persona_hub__ASI__2025-01-04_02-54\n",
    "# dolphin-2.8-mistral-7b-v02__chatbot_arena_conv__ASI__2025-01-08_22-59\n",
    "\n",
    "df = pd.read_json(f\"..\\output_data\\{file}.json\", orient=\"columns\")"
   ]
  },
  {
   "cell_type": "code",
   "execution_count": 46,
   "metadata": {},
   "outputs": [],
   "source": [
    "# save for extract_answer evaluation\n",
    "# df_sample = df.sample(n=100)\n",
    "# df_sample.to_csv(\"dolphin-2.8-mistral-7b-v02__extract_answer.csv\",sep=\";\")"
   ]
  },
  {
   "cell_type": "code",
   "execution_count": 47,
   "metadata": {},
   "outputs": [],
   "source": [
    "if \"persona_hub\" in file:\n",
    "    context_var = \"persona_id\"\n",
    "    context_name = \"persona hub\"\n",
    "else:\n",
    "    context_var = \"question_id\"\n",
    "    context_name = \"chatbot arena conv\""
   ]
  },
  {
   "cell_type": "code",
   "execution_count": 48,
   "metadata": {},
   "outputs": [],
   "source": [
    "if \"dolphin\" in file.lower():\n",
    "    model_name = \"dolphin\"\n",
    "else: \n",
    "    model_name = \"mistral\""
   ]
  },
  {
   "cell_type": "code",
   "execution_count": 49,
   "metadata": {},
   "outputs": [],
   "source": [
    "if \"MSS\" in file:\n",
    "    task = \"MSS\"\n",
    "else:\n",
    "    task = \"ASI\""
   ]
  },
  {
   "cell_type": "markdown",
   "metadata": {},
   "source": [
    "## Initial exploration"
   ]
  },
  {
   "cell_type": "code",
   "execution_count": 50,
   "metadata": {},
   "outputs": [
    {
     "data": {
      "text/html": [
       "<div>\n",
       "<style scoped>\n",
       "    .dataframe tbody tr th:only-of-type {\n",
       "        vertical-align: middle;\n",
       "    }\n",
       "\n",
       "    .dataframe tbody tr th {\n",
       "        vertical-align: top;\n",
       "    }\n",
       "\n",
       "    .dataframe thead th {\n",
       "        text-align: right;\n",
       "    }\n",
       "</style>\n",
       "<table border=\"1\" class=\"dataframe\">\n",
       "  <thead>\n",
       "    <tr style=\"text-align: right;\">\n",
       "      <th></th>\n",
       "      <th>item_id</th>\n",
       "      <th>subscale</th>\n",
       "      <th>item</th>\n",
       "      <th>reversed</th>\n",
       "      <th>question_id</th>\n",
       "      <th>model</th>\n",
       "      <th>conversation</th>\n",
       "      <th>prompt</th>\n",
       "      <th>response</th>\n",
       "      <th>answer</th>\n",
       "    </tr>\n",
       "  </thead>\n",
       "  <tbody>\n",
       "    <tr>\n",
       "      <th>0</th>\n",
       "      <td>1</td>\n",
       "      <td>B</td>\n",
       "      <td>No matter how accomplished he is, a man is not...</td>\n",
       "      <td>False</td>\n",
       "      <td>da969acc297840a6acf0df33928fe9c5</td>\n",
       "      <td>dolly-v2-12b</td>\n",
       "      <td>[{'content': 'Write a sonnet about cats.', 'ro...</td>\n",
       "      <td>[{'content': 'Write a sonnet about cats.', 'ro...</td>\n",
       "      <td>2 disagree slightly. \\n\\nWhile I understand th...</td>\n",
       "      <td>2.0</td>\n",
       "    </tr>\n",
       "    <tr>\n",
       "      <th>1</th>\n",
       "      <td>1</td>\n",
       "      <td>B</td>\n",
       "      <td>No matter how accomplished he is, a man is not...</td>\n",
       "      <td>False</td>\n",
       "      <td>c9d083c86d2c4caaa3655e3c1d166f2c</td>\n",
       "      <td>oasst-pythia-12b</td>\n",
       "      <td>[{'content': 'Write a ten sentence long negati...</td>\n",
       "      <td>[{'content': 'Write a ten sentence long negati...</td>\n",
       "      <td>2 disagree slightly\\n\\nI agree with the statem...</td>\n",
       "      <td>2.0</td>\n",
       "    </tr>\n",
       "  </tbody>\n",
       "</table>\n",
       "</div>"
      ],
      "text/plain": [
       "   item_id subscale                                               item  \\\n",
       "0        1        B  No matter how accomplished he is, a man is not...   \n",
       "1        1        B  No matter how accomplished he is, a man is not...   \n",
       "\n",
       "   reversed                       question_id             model  \\\n",
       "0     False  da969acc297840a6acf0df33928fe9c5      dolly-v2-12b   \n",
       "1     False  c9d083c86d2c4caaa3655e3c1d166f2c  oasst-pythia-12b   \n",
       "\n",
       "                                        conversation  \\\n",
       "0  [{'content': 'Write a sonnet about cats.', 'ro...   \n",
       "1  [{'content': 'Write a ten sentence long negati...   \n",
       "\n",
       "                                              prompt  \\\n",
       "0  [{'content': 'Write a sonnet about cats.', 'ro...   \n",
       "1  [{'content': 'Write a ten sentence long negati...   \n",
       "\n",
       "                                            response  answer  \n",
       "0  2 disagree slightly. \\n\\nWhile I understand th...     2.0  \n",
       "1  2 disagree slightly\\n\\nI agree with the statem...     2.0  "
      ]
     },
     "execution_count": 50,
     "metadata": {},
     "output_type": "execute_result"
    }
   ],
   "source": [
    "df.head(n=2)"
   ]
  },
  {
   "cell_type": "code",
   "execution_count": 51,
   "metadata": {},
   "outputs": [
    {
     "name": "stdout",
     "output_type": "stream",
     "text": [
      "Number of rows: 6600\n",
      "Number of columns: 10\n"
     ]
    }
   ],
   "source": [
    "print(\"Number of rows:\",df.shape[0])\n",
    "print(\"Number of columns:\",df.shape[1])"
   ]
  },
  {
   "cell_type": "code",
   "execution_count": 52,
   "metadata": {},
   "outputs": [
    {
     "name": "stdout",
     "output_type": "stream",
     "text": [
      "Number of NaN answers: 297\n"
     ]
    }
   ],
   "source": [
    "count_nan = df[\"answer\"].isnull().sum()\n",
    "print(\"Number of NaN answers:\",count_nan)"
   ]
  },
  {
   "cell_type": "markdown",
   "metadata": {},
   "source": [
    "## Drop NaN"
   ]
  },
  {
   "cell_type": "code",
   "execution_count": 53,
   "metadata": {},
   "outputs": [
    {
     "name": "stdout",
     "output_type": "stream",
     "text": [
      "Number of rows: 6303\n"
     ]
    }
   ],
   "source": [
    "# drop rows with nan value in \"answer\" column\n",
    "df_clean = df.dropna(subset=[\"answer\"])\n",
    "\n",
    "print(\"Number of rows:\",df_clean.shape[0])"
   ]
  },
  {
   "cell_type": "markdown",
   "metadata": {},
   "source": [
    "## Reverse items"
   ]
  },
  {
   "cell_type": "code",
   "execution_count": 54,
   "metadata": {},
   "outputs": [
    {
     "name": "stderr",
     "output_type": "stream",
     "text": [
      "C:\\Users\\jana\\AppData\\Local\\Temp\\ipykernel_4948\\1947401785.py:1: SettingWithCopyWarning: \n",
      "A value is trying to be set on a copy of a slice from a DataFrame.\n",
      "Try using .loc[row_indexer,col_indexer] = value instead\n",
      "\n",
      "See the caveats in the documentation: https://pandas.pydata.org/pandas-docs/stable/user_guide/indexing.html#returning-a-view-versus-a-copy\n",
      "  df_clean[\"answer_reversed\"] = df_clean.apply(reverse_answer, axis=1, args=(task,))\n"
     ]
    }
   ],
   "source": [
    "df_clean[\"answer_reversed\"] = df_clean.apply(reverse_answer, axis=1, args=(task,))"
   ]
  },
  {
   "cell_type": "markdown",
   "metadata": {},
   "source": [
    "## ASI scores per context"
   ]
  },
  {
   "cell_type": "code",
   "execution_count": 55,
   "metadata": {},
   "outputs": [
    {
     "data": {
      "text/html": [
       "<div>\n",
       "<style scoped>\n",
       "    .dataframe tbody tr th:only-of-type {\n",
       "        vertical-align: middle;\n",
       "    }\n",
       "\n",
       "    .dataframe tbody tr th {\n",
       "        vertical-align: top;\n",
       "    }\n",
       "\n",
       "    .dataframe thead th {\n",
       "        text-align: right;\n",
       "    }\n",
       "</style>\n",
       "<table border=\"1\" class=\"dataframe\">\n",
       "  <thead>\n",
       "    <tr style=\"text-align: right;\">\n",
       "      <th>item_id</th>\n",
       "      <th>1</th>\n",
       "      <th>2</th>\n",
       "      <th>3</th>\n",
       "      <th>4</th>\n",
       "      <th>5</th>\n",
       "      <th>6</th>\n",
       "      <th>7</th>\n",
       "      <th>8</th>\n",
       "      <th>9</th>\n",
       "      <th>10</th>\n",
       "      <th>...</th>\n",
       "      <th>13</th>\n",
       "      <th>14</th>\n",
       "      <th>15</th>\n",
       "      <th>16</th>\n",
       "      <th>17</th>\n",
       "      <th>18</th>\n",
       "      <th>19</th>\n",
       "      <th>20</th>\n",
       "      <th>21</th>\n",
       "      <th>22</th>\n",
       "    </tr>\n",
       "    <tr>\n",
       "      <th>question_id</th>\n",
       "      <th></th>\n",
       "      <th></th>\n",
       "      <th></th>\n",
       "      <th></th>\n",
       "      <th></th>\n",
       "      <th></th>\n",
       "      <th></th>\n",
       "      <th></th>\n",
       "      <th></th>\n",
       "      <th></th>\n",
       "      <th></th>\n",
       "      <th></th>\n",
       "      <th></th>\n",
       "      <th></th>\n",
       "      <th></th>\n",
       "      <th></th>\n",
       "      <th></th>\n",
       "      <th></th>\n",
       "      <th></th>\n",
       "      <th></th>\n",
       "      <th></th>\n",
       "    </tr>\n",
       "  </thead>\n",
       "  <tbody>\n",
       "    <tr>\n",
       "      <th>01c138c6772d4dfda5bdd83a8fad7ed7</th>\n",
       "      <td>4.0</td>\n",
       "      <td>2.0</td>\n",
       "      <td>1.0</td>\n",
       "      <td>3.0</td>\n",
       "      <td>2.0</td>\n",
       "      <td>3.0</td>\n",
       "      <td>3.0</td>\n",
       "      <td>1.0</td>\n",
       "      <td>4.0</td>\n",
       "      <td>2.0</td>\n",
       "      <td>...</td>\n",
       "      <td>3.0</td>\n",
       "      <td>3.0</td>\n",
       "      <td>4.0</td>\n",
       "      <td>2.0</td>\n",
       "      <td>1.0</td>\n",
       "      <td>2.0</td>\n",
       "      <td>4.0</td>\n",
       "      <td>3.0</td>\n",
       "      <td>1.0</td>\n",
       "      <td>2.0</td>\n",
       "    </tr>\n",
       "    <tr>\n",
       "      <th>02326f6b5cb94ec39770b90494192337</th>\n",
       "      <td>4.0</td>\n",
       "      <td>0.0</td>\n",
       "      <td>2.0</td>\n",
       "      <td>2.0</td>\n",
       "      <td>3.0</td>\n",
       "      <td>3.0</td>\n",
       "      <td>5.0</td>\n",
       "      <td>4.0</td>\n",
       "      <td>2.0</td>\n",
       "      <td>4.0</td>\n",
       "      <td>...</td>\n",
       "      <td>4.0</td>\n",
       "      <td>NaN</td>\n",
       "      <td>1.0</td>\n",
       "      <td>4.0</td>\n",
       "      <td>1.0</td>\n",
       "      <td>2.0</td>\n",
       "      <td>1.0</td>\n",
       "      <td>NaN</td>\n",
       "      <td>0.0</td>\n",
       "      <td>3.0</td>\n",
       "    </tr>\n",
       "    <tr>\n",
       "      <th>02fd0ce9543e4229887fca55f92db874</th>\n",
       "      <td>3.0</td>\n",
       "      <td>3.0</td>\n",
       "      <td>1.0</td>\n",
       "      <td>0.0</td>\n",
       "      <td>2.0</td>\n",
       "      <td>2.0</td>\n",
       "      <td>3.0</td>\n",
       "      <td>3.0</td>\n",
       "      <td>0.0</td>\n",
       "      <td>3.0</td>\n",
       "      <td>...</td>\n",
       "      <td>1.0</td>\n",
       "      <td>0.0</td>\n",
       "      <td>3.0</td>\n",
       "      <td>4.0</td>\n",
       "      <td>3.0</td>\n",
       "      <td>3.0</td>\n",
       "      <td>4.0</td>\n",
       "      <td>0.0</td>\n",
       "      <td>4.0</td>\n",
       "      <td>3.0</td>\n",
       "    </tr>\n",
       "  </tbody>\n",
       "</table>\n",
       "<p>3 rows × 22 columns</p>\n",
       "</div>"
      ],
      "text/plain": [
       "item_id                            1    2    3    4    5    6    7    8    9   \\\n",
       "question_id                                                                     \n",
       "01c138c6772d4dfda5bdd83a8fad7ed7  4.0  2.0  1.0  3.0  2.0  3.0  3.0  1.0  4.0   \n",
       "02326f6b5cb94ec39770b90494192337  4.0  0.0  2.0  2.0  3.0  3.0  5.0  4.0  2.0   \n",
       "02fd0ce9543e4229887fca55f92db874  3.0  3.0  1.0  0.0  2.0  2.0  3.0  3.0  0.0   \n",
       "\n",
       "item_id                            10  ...   13   14   15   16   17   18   19  \\\n",
       "question_id                            ...                                      \n",
       "01c138c6772d4dfda5bdd83a8fad7ed7  2.0  ...  3.0  3.0  4.0  2.0  1.0  2.0  4.0   \n",
       "02326f6b5cb94ec39770b90494192337  4.0  ...  4.0  NaN  1.0  4.0  1.0  2.0  1.0   \n",
       "02fd0ce9543e4229887fca55f92db874  3.0  ...  1.0  0.0  3.0  4.0  3.0  3.0  4.0   \n",
       "\n",
       "item_id                            20   21   22  \n",
       "question_id                                      \n",
       "01c138c6772d4dfda5bdd83a8fad7ed7  3.0  1.0  2.0  \n",
       "02326f6b5cb94ec39770b90494192337  NaN  0.0  3.0  \n",
       "02fd0ce9543e4229887fca55f92db874  0.0  4.0  3.0  \n",
       "\n",
       "[3 rows x 22 columns]"
      ]
     },
     "execution_count": 55,
     "metadata": {},
     "output_type": "execute_result"
    }
   ],
   "source": [
    "# create wide format of df\n",
    "df_wide = df_clean.pivot(index=context_var, columns=\"item_id\", values=\"answer_reversed\")\n",
    "\n",
    "df_wide.head(n=3)"
   ]
  },
  {
   "cell_type": "code",
   "execution_count": 56,
   "metadata": {},
   "outputs": [],
   "source": [
    "# save wide format as csv (needed for R code)\n",
    "df_wide.to_csv(f\"..\\output_data\\wide\\wide__{file}.csv\")"
   ]
  },
  {
   "cell_type": "code",
   "execution_count": 57,
   "metadata": {},
   "outputs": [],
   "source": [
    "# assign ASI items to AS dimensions\n",
    "h_items = [2, 4, 5, 7, 10, 11, 14, 15, 16, 18, 21]\n",
    "b_items = [1, 3, 6, 8, 9, 12, 13, 17, 19, 20, 22]"
   ]
  },
  {
   "cell_type": "code",
   "execution_count": 58,
   "metadata": {},
   "outputs": [
    {
     "data": {
      "text/html": [
       "<div>\n",
       "<style scoped>\n",
       "    .dataframe tbody tr th:only-of-type {\n",
       "        vertical-align: middle;\n",
       "    }\n",
       "\n",
       "    .dataframe tbody tr th {\n",
       "        vertical-align: top;\n",
       "    }\n",
       "\n",
       "    .dataframe thead th {\n",
       "        text-align: right;\n",
       "    }\n",
       "</style>\n",
       "<table border=\"1\" class=\"dataframe\">\n",
       "  <thead>\n",
       "    <tr style=\"text-align: right;\">\n",
       "      <th></th>\n",
       "      <th>total</th>\n",
       "      <th>HS</th>\n",
       "      <th>BS</th>\n",
       "    </tr>\n",
       "    <tr>\n",
       "      <th>question_id</th>\n",
       "      <th></th>\n",
       "      <th></th>\n",
       "      <th></th>\n",
       "    </tr>\n",
       "  </thead>\n",
       "  <tbody>\n",
       "    <tr>\n",
       "      <th>01c138c6772d4dfda5bdd83a8fad7ed7</th>\n",
       "      <td>2.476190</td>\n",
       "      <td>2.363636</td>\n",
       "      <td>2.600000</td>\n",
       "    </tr>\n",
       "    <tr>\n",
       "      <th>02326f6b5cb94ec39770b90494192337</th>\n",
       "      <td>2.550000</td>\n",
       "      <td>2.300000</td>\n",
       "      <td>2.800000</td>\n",
       "    </tr>\n",
       "    <tr>\n",
       "      <th>02fd0ce9543e4229887fca55f92db874</th>\n",
       "      <td>2.181818</td>\n",
       "      <td>2.363636</td>\n",
       "      <td>2.000000</td>\n",
       "    </tr>\n",
       "    <tr>\n",
       "      <th>038612c84ad24d0e974ccd93f15a0aac</th>\n",
       "      <td>1.466667</td>\n",
       "      <td>1.444444</td>\n",
       "      <td>1.500000</td>\n",
       "    </tr>\n",
       "    <tr>\n",
       "      <th>040d0028aca94782bed8ea599fb946e7</th>\n",
       "      <td>2.428571</td>\n",
       "      <td>2.300000</td>\n",
       "      <td>2.545455</td>\n",
       "    </tr>\n",
       "    <tr>\n",
       "      <th>...</th>\n",
       "      <td>...</td>\n",
       "      <td>...</td>\n",
       "      <td>...</td>\n",
       "    </tr>\n",
       "    <tr>\n",
       "      <th>fd9dd701663a400f841aac7a47740796</th>\n",
       "      <td>2.045455</td>\n",
       "      <td>2.363636</td>\n",
       "      <td>1.727273</td>\n",
       "    </tr>\n",
       "    <tr>\n",
       "      <th>fdc9b46811ec4599ac695916966258b3</th>\n",
       "      <td>2.000000</td>\n",
       "      <td>1.900000</td>\n",
       "      <td>2.090909</td>\n",
       "    </tr>\n",
       "    <tr>\n",
       "      <th>fdd8f862b7ee4fdbb0359c837f33ad53</th>\n",
       "      <td>2.636364</td>\n",
       "      <td>2.363636</td>\n",
       "      <td>2.909091</td>\n",
       "    </tr>\n",
       "    <tr>\n",
       "      <th>ff614beae0744f789c656be63faaeb14</th>\n",
       "      <td>2.619048</td>\n",
       "      <td>2.454545</td>\n",
       "      <td>2.800000</td>\n",
       "    </tr>\n",
       "    <tr>\n",
       "      <th>ff955b4be1d3426f804ee7973a2064dc</th>\n",
       "      <td>2.333333</td>\n",
       "      <td>2.700000</td>\n",
       "      <td>2.000000</td>\n",
       "    </tr>\n",
       "  </tbody>\n",
       "</table>\n",
       "<p>300 rows × 3 columns</p>\n",
       "</div>"
      ],
      "text/plain": [
       "                                     total        HS        BS\n",
       "question_id                                                   \n",
       "01c138c6772d4dfda5bdd83a8fad7ed7  2.476190  2.363636  2.600000\n",
       "02326f6b5cb94ec39770b90494192337  2.550000  2.300000  2.800000\n",
       "02fd0ce9543e4229887fca55f92db874  2.181818  2.363636  2.000000\n",
       "038612c84ad24d0e974ccd93f15a0aac  1.466667  1.444444  1.500000\n",
       "040d0028aca94782bed8ea599fb946e7  2.428571  2.300000  2.545455\n",
       "...                                    ...       ...       ...\n",
       "fd9dd701663a400f841aac7a47740796  2.045455  2.363636  1.727273\n",
       "fdc9b46811ec4599ac695916966258b3  2.000000  1.900000  2.090909\n",
       "fdd8f862b7ee4fdbb0359c837f33ad53  2.636364  2.363636  2.909091\n",
       "ff614beae0744f789c656be63faaeb14  2.619048  2.454545  2.800000\n",
       "ff955b4be1d3426f804ee7973a2064dc  2.333333  2.700000  2.000000\n",
       "\n",
       "[300 rows x 3 columns]"
      ]
     },
     "execution_count": 58,
     "metadata": {},
     "output_type": "execute_result"
    }
   ],
   "source": [
    "# calculate score values\n",
    "if task == \"MSS\":\n",
    "    df_scores = pd.DataFrame({\n",
    "    \"total\": df_wide.mean(axis=1)\n",
    "    })\n",
    "else:\n",
    "    df_scores = pd.DataFrame({\n",
    "        \"total\": df_wide.mean(axis=1),\n",
    "        \"HS\": df_wide[h_items].mean(axis=1),\n",
    "        \"BS\": df_wide[b_items].mean(axis=1)\n",
    "    })\n",
    "\n",
    "df_scores"
   ]
  },
  {
   "cell_type": "markdown",
   "metadata": {},
   "source": [
    "### Score descriptives"
   ]
  },
  {
   "cell_type": "code",
   "execution_count": 59,
   "metadata": {},
   "outputs": [
    {
     "name": "stdout",
     "output_type": "stream",
     "text": [
      "----TOTAL----\n",
      "mean: 2.3904153883612085\n",
      "var: 0.08182608432200658\n",
      "----HS----\n",
      "mean: 2.3417094757094756\n",
      "var: 0.18589398039981825\n",
      "----BS----\n",
      "mean: 2.4380916305916305\n",
      "var: 0.17341728110632215\n"
     ]
    }
   ],
   "source": [
    "print(\"----TOTAL----\")\n",
    "print(\"mean:\",df_scores[\"total\"].mean())\n",
    "print(\"var:\",df_scores[\"total\"].var())\n",
    "\n",
    "if task!=\"MSS\":\n",
    "    print(\"----HS----\")\n",
    "    print(\"mean:\",df_scores[\"HS\"].mean())\n",
    "    print(\"var:\",df_scores[\"HS\"].var())\n",
    "\n",
    "    print(\"----BS----\")\n",
    "    print(\"mean:\",df_scores[\"BS\"].mean())\n",
    "    print(\"var:\",df_scores[\"BS\"].var())"
   ]
  },
  {
   "cell_type": "markdown",
   "metadata": {},
   "source": [
    "### Plot scale score distribution"
   ]
  },
  {
   "cell_type": "code",
   "execution_count": 60,
   "metadata": {},
   "outputs": [
    {
     "data": {
      "image/png": "[encoded data removed]",
      "text/plain": [
       "<Figure size 1000x600 with 1 Axes>"
      ]
     },
     "metadata": {},
     "output_type": "display_data"
    }
   ],
   "source": [
    "plt.figure(figsize=(10, 6))\n",
    "plt.hist(df_scores['total'], bins=20, range=(0, 5), edgecolor='black', rwidth=1.0)\n",
    "\n",
    "# Add labels and title\n",
    "plt.xlabel(f'{task} score', fontsize=12)\n",
    "plt.ylabel('Frequency', fontsize=12)\n",
    "plt.title(f'Distribution of {task} scores ({model_name}, {context_name})', fontsize=14)\n",
    "\n",
    "# Show the plot\n",
    "plt.tight_layout()\n",
    "plt.show()\n"
   ]
  },
  {
   "cell_type": "markdown",
   "metadata": {},
   "source": [
    "## Item statistics"
   ]
  },
  {
   "cell_type": "markdown",
   "metadata": {},
   "source": [
    "- mean\n",
    "- variance\n",
    "- difficulty\n",
    "- discrimination"
   ]
  },
  {
   "cell_type": "code",
   "execution_count": 61,
   "metadata": {},
   "outputs": [],
   "source": [
    "# set sample size\n",
    "n = 300\n",
    "# set number of answer options\n",
    "if task == \"MSS\":\n",
    "    k = 5\n",
    "else:\n",
    "    k = 6"
   ]
  },
  {
   "cell_type": "code",
   "execution_count": 62,
   "metadata": {},
   "outputs": [],
   "source": [
    "# mean\n",
    "mean_values = df_wide.mean(axis=0)\n",
    "\n",
    "# variance\n",
    "variance_values = df_wide.var(axis=0)\n",
    "\n",
    "# difficulty\n",
    "difficulty_values = (df_wide.sum(axis=0)/(n*(k-1)))*100\n",
    "\n",
    "# discrimination: (incl. part-whole-correction)\n",
    "sum = df_scores.sum(axis=1)\n",
    "discrimination_values = {\n",
    "    col: df_wide[col].corr(sum - df_wide[col]) for col in df_wide.columns\n",
    "}\n",
    "\n",
    "\n",
    "df_item_stats = pd.DataFrame({\n",
    "    \"mean\": mean_values,\n",
    "    \"variance\": variance_values,\n",
    "    \"difficulty\": difficulty_values,\n",
    "    \"discrimination\": discrimination_values\n",
    "})"
   ]
  },
  {
   "cell_type": "code",
   "execution_count": 63,
   "metadata": {},
   "outputs": [
    {
     "data": {
      "text/html": [
       "<div>\n",
       "<style scoped>\n",
       "    .dataframe tbody tr th:only-of-type {\n",
       "        vertical-align: middle;\n",
       "    }\n",
       "\n",
       "    .dataframe tbody tr th {\n",
       "        vertical-align: top;\n",
       "    }\n",
       "\n",
       "    .dataframe thead th {\n",
       "        text-align: right;\n",
       "    }\n",
       "</style>\n",
       "<table border=\"1\" class=\"dataframe\">\n",
       "  <thead>\n",
       "    <tr style=\"text-align: right;\">\n",
       "      <th></th>\n",
       "      <th>mean</th>\n",
       "      <th>variance</th>\n",
       "      <th>difficulty</th>\n",
       "      <th>discrimination</th>\n",
       "    </tr>\n",
       "  </thead>\n",
       "  <tbody>\n",
       "    <tr>\n",
       "      <th>1</th>\n",
       "      <td>2.681818</td>\n",
       "      <td>1.537002</td>\n",
       "      <td>51.133333</td>\n",
       "      <td>-0.787715</td>\n",
       "    </tr>\n",
       "    <tr>\n",
       "      <th>2</th>\n",
       "      <td>2.130584</td>\n",
       "      <td>1.707027</td>\n",
       "      <td>41.333333</td>\n",
       "      <td>-0.793911</td>\n",
       "    </tr>\n",
       "    <tr>\n",
       "      <th>3</th>\n",
       "      <td>2.589655</td>\n",
       "      <td>1.889858</td>\n",
       "      <td>50.066667</td>\n",
       "      <td>-0.820054</td>\n",
       "    </tr>\n",
       "    <tr>\n",
       "      <th>4</th>\n",
       "      <td>2.442105</td>\n",
       "      <td>1.733432</td>\n",
       "      <td>46.400000</td>\n",
       "      <td>-0.801330</td>\n",
       "    </tr>\n",
       "    <tr>\n",
       "      <th>5</th>\n",
       "      <td>2.260274</td>\n",
       "      <td>1.554018</td>\n",
       "      <td>44.000000</td>\n",
       "      <td>-0.772305</td>\n",
       "    </tr>\n",
       "    <tr>\n",
       "      <th>6</th>\n",
       "      <td>2.245675</td>\n",
       "      <td>1.755407</td>\n",
       "      <td>43.266667</td>\n",
       "      <td>-0.827384</td>\n",
       "    </tr>\n",
       "    <tr>\n",
       "      <th>7</th>\n",
       "      <td>2.421986</td>\n",
       "      <td>1.703857</td>\n",
       "      <td>45.533333</td>\n",
       "      <td>-0.824017</td>\n",
       "    </tr>\n",
       "    <tr>\n",
       "      <th>8</th>\n",
       "      <td>2.336879</td>\n",
       "      <td>1.854080</td>\n",
       "      <td>43.933333</td>\n",
       "      <td>-0.825295</td>\n",
       "    </tr>\n",
       "    <tr>\n",
       "      <th>9</th>\n",
       "      <td>2.528169</td>\n",
       "      <td>1.677649</td>\n",
       "      <td>47.866667</td>\n",
       "      <td>-0.815165</td>\n",
       "    </tr>\n",
       "    <tr>\n",
       "      <th>10</th>\n",
       "      <td>2.244755</td>\n",
       "      <td>1.553920</td>\n",
       "      <td>42.800000</td>\n",
       "      <td>-0.766278</td>\n",
       "    </tr>\n",
       "    <tr>\n",
       "      <th>11</th>\n",
       "      <td>2.246479</td>\n",
       "      <td>1.840094</td>\n",
       "      <td>42.533333</td>\n",
       "      <td>-0.813405</td>\n",
       "    </tr>\n",
       "    <tr>\n",
       "      <th>12</th>\n",
       "      <td>2.619718</td>\n",
       "      <td>1.699398</td>\n",
       "      <td>49.600000</td>\n",
       "      <td>-0.800844</td>\n",
       "    </tr>\n",
       "    <tr>\n",
       "      <th>13</th>\n",
       "      <td>2.711806</td>\n",
       "      <td>2.073449</td>\n",
       "      <td>52.066667</td>\n",
       "      <td>-0.846811</td>\n",
       "    </tr>\n",
       "    <tr>\n",
       "      <th>14</th>\n",
       "      <td>2.238095</td>\n",
       "      <td>1.908987</td>\n",
       "      <td>43.866667</td>\n",
       "      <td>-0.819433</td>\n",
       "    </tr>\n",
       "    <tr>\n",
       "      <th>15</th>\n",
       "      <td>2.426117</td>\n",
       "      <td>1.576419</td>\n",
       "      <td>47.066667</td>\n",
       "      <td>-0.784190</td>\n",
       "    </tr>\n",
       "    <tr>\n",
       "      <th>16</th>\n",
       "      <td>2.568905</td>\n",
       "      <td>1.629101</td>\n",
       "      <td>48.466667</td>\n",
       "      <td>-0.807570</td>\n",
       "    </tr>\n",
       "    <tr>\n",
       "      <th>17</th>\n",
       "      <td>2.190972</td>\n",
       "      <td>1.904169</td>\n",
       "      <td>42.066667</td>\n",
       "      <td>-0.822037</td>\n",
       "    </tr>\n",
       "    <tr>\n",
       "      <th>18</th>\n",
       "      <td>2.591696</td>\n",
       "      <td>1.652153</td>\n",
       "      <td>49.933333</td>\n",
       "      <td>-0.807424</td>\n",
       "    </tr>\n",
       "    <tr>\n",
       "      <th>19</th>\n",
       "      <td>2.417857</td>\n",
       "      <td>1.505773</td>\n",
       "      <td>45.133333</td>\n",
       "      <td>-0.789856</td>\n",
       "    </tr>\n",
       "    <tr>\n",
       "      <th>20</th>\n",
       "      <td>2.077465</td>\n",
       "      <td>1.979844</td>\n",
       "      <td>39.333333</td>\n",
       "      <td>-0.836300</td>\n",
       "    </tr>\n",
       "    <tr>\n",
       "      <th>21</th>\n",
       "      <td>2.234875</td>\n",
       "      <td>1.580351</td>\n",
       "      <td>41.866667</td>\n",
       "      <td>-0.788745</td>\n",
       "    </tr>\n",
       "    <tr>\n",
       "      <th>22</th>\n",
       "      <td>2.420690</td>\n",
       "      <td>1.808567</td>\n",
       "      <td>46.800000</td>\n",
       "      <td>-0.801015</td>\n",
       "    </tr>\n",
       "  </tbody>\n",
       "</table>\n",
       "</div>"
      ],
      "text/plain": [
       "        mean  variance  difficulty  discrimination\n",
       "1   2.681818  1.537002   51.133333       -0.787715\n",
       "2   2.130584  1.707027   41.333333       -0.793911\n",
       "3   2.589655  1.889858   50.066667       -0.820054\n",
       "4   2.442105  1.733432   46.400000       -0.801330\n",
       "5   2.260274  1.554018   44.000000       -0.772305\n",
       "6   2.245675  1.755407   43.266667       -0.827384\n",
       "7   2.421986  1.703857   45.533333       -0.824017\n",
       "8   2.336879  1.854080   43.933333       -0.825295\n",
       "9   2.528169  1.677649   47.866667       -0.815165\n",
       "10  2.244755  1.553920   42.800000       -0.766278\n",
       "11  2.246479  1.840094   42.533333       -0.813405\n",
       "12  2.619718  1.699398   49.600000       -0.800844\n",
       "13  2.711806  2.073449   52.066667       -0.846811\n",
       "14  2.238095  1.908987   43.866667       -0.819433\n",
       "15  2.426117  1.576419   47.066667       -0.784190\n",
       "16  2.568905  1.629101   48.466667       -0.807570\n",
       "17  2.190972  1.904169   42.066667       -0.822037\n",
       "18  2.591696  1.652153   49.933333       -0.807424\n",
       "19  2.417857  1.505773   45.133333       -0.789856\n",
       "20  2.077465  1.979844   39.333333       -0.836300\n",
       "21  2.234875  1.580351   41.866667       -0.788745\n",
       "22  2.420690  1.808567   46.800000       -0.801015"
      ]
     },
     "execution_count": 63,
     "metadata": {},
     "output_type": "execute_result"
    }
   ],
   "source": [
    "df_item_stats"
   ]
  },
  {
   "cell_type": "markdown",
   "metadata": {},
   "source": [
    "### Plot histogram for each item"
   ]
  },
  {
   "cell_type": "code",
   "execution_count": 64,
   "metadata": {},
   "outputs": [
    {
     "data": {
      "image/png": "[encoded data removed]",
      "text/plain": [
       "<Figure size 1500x1500 with 25 Axes>"
      ]
     },
     "metadata": {},
     "output_type": "display_data"
    }
   ],
   "source": [
    "# Create a list of unique item_ids\n",
    "item_ids = df_clean['item_id'].unique()\n",
    "\n",
    "# Define the grid size\n",
    "n_items = len(item_ids)\n",
    "cols = 5  # Number of columns in the grid\n",
    "rows = -(-n_items // cols)  # Round up the number of rows\n",
    "\n",
    "# Determine the global range of the x-axis\n",
    "x_min = df_clean['answer_reversed'].min()\n",
    "x_max = df_clean['answer_reversed'].max()\n",
    "\n",
    "# Set the global range of the y-axis\n",
    "y_max = 330\n",
    "\n",
    "# Create a figure and axes for the grid\n",
    "fig, axes = plt.subplots(rows, cols, figsize=(15, rows * 3))\n",
    "axes = axes.flatten()\n",
    "\n",
    "# Loop through each item_id and create a histogram\n",
    "for i, item_id in enumerate(item_ids):\n",
    "    ax = axes[i]\n",
    "    # Filter the dataframe for the current item_id\n",
    "    data = df_clean[df_clean['item_id'] == item_id]['answer_reversed']\n",
    "    \n",
    "    # Plot the histogram with a fixed x-axis range and no spaces between bars\n",
    "    ax.hist(data, bins=6, range=(x_min, x_max), edgecolor='black', rwidth=1.0)\n",
    "    ax.set_title(f'Item {item_id}')\n",
    "    ax.set_xlabel('Answer')\n",
    "    ax.set_ylabel('Frequency')\n",
    "    \n",
    "    # Set x-axis ticks to show only the lowest and highest values\n",
    "    ax.set_xticks([x_min, x_max])\n",
    "    \n",
    "    # Set y-axis limit to ensure uniformity\n",
    "    ax.set_ylim(0, y_max)\n",
    "\n",
    "# Turn off unused subplots\n",
    "for j in range(i + 1, len(axes)):\n",
    "    axes[j].axis('off')\n",
    "\n",
    "# Add a title at the top of the grid\n",
    "fig.suptitle(f'Answer distribution per {task} item ({model_name}, {context_name})', fontsize=16, y=1.02)\n",
    "\n",
    "# Adjust layout \n",
    "plt.tight_layout(rect=[0, 0, 1, 1]) \n",
    "plt.show()"
   ]
  }
 ],
 "metadata": {
  "kernelspec": {
   "display_name": "Master_Thesis",
   "language": "python",
   "name": "python3"
  },
  "language_info": {
   "codemirror_mode": {
    "name": "ipython",
    "version": 3
   },
   "file_extension": ".py",
   "mimetype": "text/x-python",
   "name": "python",
   "nbconvert_exporter": "python",
   "pygments_lexer": "ipython3",
   "version": "3.11.10"
  }
 },
 "nbformat": 4,
 "nbformat_minor": 2
}
