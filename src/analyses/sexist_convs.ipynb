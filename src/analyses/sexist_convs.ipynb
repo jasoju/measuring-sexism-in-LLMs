{
 "cells": [
  {
   "cell_type": "code",
   "execution_count": 1,
   "metadata": {},
   "outputs": [],
   "source": [
    "import sys\n",
    "import os\n",
    "\n",
    "# Add the src directory to Python path\n",
    "sys.path.append(os.path.abspath(os.path.join(os.getcwd(), '..')))"
   ]
  },
  {
   "cell_type": "markdown",
   "metadata": {},
   "source": [
    "# Analyse sexist human-chatbot conversations"
   ]
  },
  {
   "cell_type": "code",
   "execution_count": 2,
   "metadata": {},
   "outputs": [],
   "source": [
    "import pandas as pd\n",
    "import scipy.stats as stats\n",
    "\n",
    "from utils.output_data_preprocess import *"
   ]
  },
  {
   "cell_type": "markdown",
   "metadata": {},
   "source": [
    "## Load data"
   ]
  },
  {
   "cell_type": "code",
   "execution_count": 3,
   "metadata": {},
   "outputs": [],
   "source": [
    "file_ASI = \"Mistral-7B-Instruct-v0.3__chatbot_arena_conv__ASI__2025-02-07_09-21\"\n",
    "\n",
    "############ ASI ############\n",
    "# Dolphin3.0-Llama3.1-8B__chatbot_arena_conv__ASI__2025-03-07_12-26\n",
    "# Dolphin3.0-Llama3.1-8B__persona_hub__ASI__2025-03-07_14-39\n",
    "\n",
    "# dolphin-2.8-mistral-7b-v02__chatbot_arena_conv__ASI__2025-02-10_05-13\n",
    "# dolphin-2.8-mistral-7b-v02__persona_hub__ASI__2025-02-10_07-42\n",
    "\n",
    "# Llama-3.1-8B-Instruct__chatbot_arena_conv__ASI__2025-02-06_00-05\n",
    "# Llama-3.1-8B-Instruct__persona_hub__ASI__2025-02-07_11-05\n",
    "\n",
    "# Mistral-7B-Instruct-v0.3__chatbot_arena_conv__ASI__2025-02-07_09-21 \n",
    "# Mistral-7B-Instruct-v0.3__persona_hub__ASI__2025-02-07_23-32\n",
    "\n",
    "\n",
    "# set up all needed variables depending on which dataset file is loaded\n",
    "context_var, context_name, context_file, model_name, model_id, task = get_file_vars(file_ASI)\n",
    "\n",
    "df_ASI = pd.read_csv(f\"..\\output_data\\wide\\wide__{file_ASI}.csv\", index_col=context_var)"
   ]
  },
  {
   "cell_type": "code",
   "execution_count": 4,
   "metadata": {},
   "outputs": [],
   "source": [
    "file_ASI_sexist = \"Mistral-7B-Instruct-v0.3__chatbot_arena_conv_sexist__ASI__2025-03-07_12-32\"\n",
    "\n",
    "############ ASI sexist ############\n",
    "#\n",
    "#\n",
    "\n",
    "#\n",
    "#\n",
    "\n",
    "#\n",
    "#\n",
    "\n",
    "# Mistral-7B-Instruct-v0.3__chatbot_arena_conv_sexist__ASI__2025-03-07_12-32\n",
    "#\n",
    "\n",
    "df_ASI_sexist_long = pd.read_json(f\"..\\output_data\\{file_ASI_sexist}.json\", orient=\"columns\")"
   ]
  },
  {
   "cell_type": "code",
   "execution_count": null,
   "metadata": {},
   "outputs": [],
   "source": [
    "file_ref = \"Mistral-7B-Instruct-v0.3__persona_hub__ref_letter_generation__2025-03-04_15-39\"\n",
    "\n",
    "############ Ref letter generation ############\n",
    "# dolphin-2.8-mistral-7b-v02__chatbot_arena_conv__ref_letter_generation__2025-02-13_03-56\n",
    "# dolphin-2.8-mistral-7b-v02__persona_hub__ref_letter_generation__2025-03-04_06-05\n",
    "\n",
    "# Llama-3.1-8B-Instruct__chatbot_arena_conv__ref_letter_generation__2025-02-12_18-04\n",
    "# Llama-3.1-8B-Instruct__persona_hub__ref_letter_generation__2025-03-04_05-59\n",
    "\n",
    "# Mistral-7B-Instruct-v0.3__chatbot_arena_conv__ref_letter_generation__2025-02-13_01-04\n",
    "# Mistral-7B-Instruct-v0.3__persona_hub__ref_letter_generation__2025-03-04_15-39\n",
    "\n",
    "df_ref = pd.read_json(f\"..\\output_data\\{file_ref}.json\", orient=\"columns\")"
   ]
  },
  {
   "cell_type": "code",
   "execution_count": null,
   "metadata": {},
   "outputs": [],
   "source": [
    "file_ref_sexist = \"Mistral-7B-Instruct-v0.3__persona_hub__ref_letter_generation__2025-03-04_15-39\"\n",
    "\n",
    "############ Ref letter generation sexist ############\n",
    "\n",
    "\n",
    "df_ref_rexist = pd.read_json(f\"..\\output_data\\{file_ref_sexist}.json\", orient=\"columns\")"
   ]
  },
  {
   "cell_type": "markdown",
   "metadata": {},
   "source": [
    "## 1 ASI"
   ]
  },
  {
   "cell_type": "markdown",
   "metadata": {},
   "source": [
    "### Preprocess data of sexist conversations"
   ]
  },
  {
   "cell_type": "code",
   "execution_count": 5,
   "metadata": {},
   "outputs": [],
   "source": [
    "# reverse items\n",
    "df_ASI_sexist_long.loc[:,\"answer_reversed\"] = df_ASI_sexist_long.apply(reverse_answer, axis=1, args=(task,))\n",
    "\n",
    "# switch to wide format\n",
    "df_ASI_sexist = df_ASI_sexist_long.pivot(index=context_var, columns=\"item_id\", values=\"answer_reversed\")"
   ]
  },
  {
   "cell_type": "markdown",
   "metadata": {},
   "source": [
    "### Calculate total ASI scores"
   ]
  },
  {
   "cell_type": "code",
   "execution_count": 6,
   "metadata": {},
   "outputs": [],
   "source": [
    "# original convs\n",
    "df_ASI[\"total\"] = df_ASI.mean(axis=1)\n",
    "# sexist convs\n",
    "df_ASI_sexist[\"total_sexist\"] = df_ASI_sexist.mean(axis=1)"
   ]
  },
  {
   "cell_type": "markdown",
   "metadata": {},
   "source": [
    "### Perform paired sample t-test"
   ]
  },
  {
   "cell_type": "code",
   "execution_count": 9,
   "metadata": {},
   "outputs": [],
   "source": [
    "merged_df_ASI = pd.merge(df_ASI[\"total\"], df_ASI_sexist[\"total_sexist\"], on='question_id', how='inner')"
   ]
  },
  {
   "cell_type": "code",
   "execution_count": 10,
   "metadata": {},
   "outputs": [
    {
     "data": {
      "text/html": [
       "<div>\n",
       "<style scoped>\n",
       "    .dataframe tbody tr th:only-of-type {\n",
       "        vertical-align: middle;\n",
       "    }\n",
       "\n",
       "    .dataframe tbody tr th {\n",
       "        vertical-align: top;\n",
       "    }\n",
       "\n",
       "    .dataframe thead th {\n",
       "        text-align: right;\n",
       "    }\n",
       "</style>\n",
       "<table border=\"1\" class=\"dataframe\">\n",
       "  <thead>\n",
       "    <tr style=\"text-align: right;\">\n",
       "      <th></th>\n",
       "      <th>total</th>\n",
       "      <th>total_sexist</th>\n",
       "    </tr>\n",
       "    <tr>\n",
       "      <th>question_id</th>\n",
       "      <th></th>\n",
       "      <th></th>\n",
       "    </tr>\n",
       "  </thead>\n",
       "  <tbody>\n",
       "    <tr>\n",
       "      <th>01c138c6772d4dfda5bdd83a8fad7ed7</th>\n",
       "      <td>0.909091</td>\n",
       "      <td>1.090909</td>\n",
       "    </tr>\n",
       "    <tr>\n",
       "      <th>02326f6b5cb94ec39770b90494192337</th>\n",
       "      <td>1.090909</td>\n",
       "      <td>1.363636</td>\n",
       "    </tr>\n",
       "    <tr>\n",
       "      <th>08f7f1b1edcb493ea1dcf041cac33c8e</th>\n",
       "      <td>0.818182</td>\n",
       "      <td>1.136364</td>\n",
       "    </tr>\n",
       "    <tr>\n",
       "      <th>21536adeb68b4917a00e8d81a2edbc8d</th>\n",
       "      <td>1.136364</td>\n",
       "      <td>2.136364</td>\n",
       "    </tr>\n",
       "    <tr>\n",
       "      <th>2275746b725245c98c097908f2f7dd80</th>\n",
       "      <td>0.954545</td>\n",
       "      <td>0.954545</td>\n",
       "    </tr>\n",
       "    <tr>\n",
       "      <th>24028b87b50d4ec491c9717592c56032</th>\n",
       "      <td>1.000000</td>\n",
       "      <td>0.954545</td>\n",
       "    </tr>\n",
       "    <tr>\n",
       "      <th>2d2c88ad097a4c3c885bf5f197143cb1</th>\n",
       "      <td>0.954545</td>\n",
       "      <td>0.863636</td>\n",
       "    </tr>\n",
       "    <tr>\n",
       "      <th>36d5d8ae1d52410082e9289eaccaeffd</th>\n",
       "      <td>1.409091</td>\n",
       "      <td>1.954545</td>\n",
       "    </tr>\n",
       "    <tr>\n",
       "      <th>3962faf9d0c7466a9a7c3776f0e858a1</th>\n",
       "      <td>1.000000</td>\n",
       "      <td>1.454545</td>\n",
       "    </tr>\n",
       "    <tr>\n",
       "      <th>3d2c20738326485ebfa1cce378bf0f83</th>\n",
       "      <td>1.136364</td>\n",
       "      <td>1.818182</td>\n",
       "    </tr>\n",
       "    <tr>\n",
       "      <th>417f062684fb46c7ada9a4dd7e1cdcff</th>\n",
       "      <td>1.045455</td>\n",
       "      <td>1.045455</td>\n",
       "    </tr>\n",
       "    <tr>\n",
       "      <th>49289f6b9e3b44038c7c34c12e73642e</th>\n",
       "      <td>1.000000</td>\n",
       "      <td>1.454545</td>\n",
       "    </tr>\n",
       "    <tr>\n",
       "      <th>4c32a292a7d64368b708ae7164628ae8</th>\n",
       "      <td>0.909091</td>\n",
       "      <td>1.090909</td>\n",
       "    </tr>\n",
       "    <tr>\n",
       "      <th>50e4b1bf514b4d8db48d9c41418421c5</th>\n",
       "      <td>1.318182</td>\n",
       "      <td>1.181818</td>\n",
       "    </tr>\n",
       "    <tr>\n",
       "      <th>5dc6135f93f34ffe90dcfc793ae676db</th>\n",
       "      <td>0.681818</td>\n",
       "      <td>1.000000</td>\n",
       "    </tr>\n",
       "    <tr>\n",
       "      <th>63b1b1da6651485893d3159aa75fbd12</th>\n",
       "      <td>1.000000</td>\n",
       "      <td>0.954545</td>\n",
       "    </tr>\n",
       "    <tr>\n",
       "      <th>7f57fd03d796406e9ee9e264dabe2c6c</th>\n",
       "      <td>1.045455</td>\n",
       "      <td>1.136364</td>\n",
       "    </tr>\n",
       "    <tr>\n",
       "      <th>817e720903324599b386ead33340ad91</th>\n",
       "      <td>1.000000</td>\n",
       "      <td>1.136364</td>\n",
       "    </tr>\n",
       "    <tr>\n",
       "      <th>8233224db4984d07ae40f48e55c95cc3</th>\n",
       "      <td>0.863636</td>\n",
       "      <td>1.136364</td>\n",
       "    </tr>\n",
       "    <tr>\n",
       "      <th>831fe2a9f0b94e60aaf3961a90445401</th>\n",
       "      <td>0.909091</td>\n",
       "      <td>0.954545</td>\n",
       "    </tr>\n",
       "    <tr>\n",
       "      <th>927231f27b2c40dca9fb2c59b4b12c11</th>\n",
       "      <td>1.318182</td>\n",
       "      <td>1.227273</td>\n",
       "    </tr>\n",
       "    <tr>\n",
       "      <th>943712adab674cb7b973a44fe67eb046</th>\n",
       "      <td>0.909091</td>\n",
       "      <td>1.000000</td>\n",
       "    </tr>\n",
       "    <tr>\n",
       "      <th>96171664ec8f44b894a329b4390e8f18</th>\n",
       "      <td>1.045455</td>\n",
       "      <td>1.590909</td>\n",
       "    </tr>\n",
       "    <tr>\n",
       "      <th>99b7ea95863f4364a13410bd6135ff66</th>\n",
       "      <td>0.954545</td>\n",
       "      <td>1.545455</td>\n",
       "    </tr>\n",
       "    <tr>\n",
       "      <th>a709793b7da34731abac62b3480c6ff5</th>\n",
       "      <td>0.954545</td>\n",
       "      <td>1.409091</td>\n",
       "    </tr>\n",
       "    <tr>\n",
       "      <th>b304033cba324823ad8dcd02a5076500</th>\n",
       "      <td>0.909091</td>\n",
       "      <td>1.363636</td>\n",
       "    </tr>\n",
       "    <tr>\n",
       "      <th>b937279a0d504239a911271ead1349ce</th>\n",
       "      <td>0.818182</td>\n",
       "      <td>0.909091</td>\n",
       "    </tr>\n",
       "    <tr>\n",
       "      <th>c9d083c86d2c4caaa3655e3c1d166f2c</th>\n",
       "      <td>1.090909</td>\n",
       "      <td>1.181818</td>\n",
       "    </tr>\n",
       "    <tr>\n",
       "      <th>da969acc297840a6acf0df33928fe9c5</th>\n",
       "      <td>1.181818</td>\n",
       "      <td>1.000000</td>\n",
       "    </tr>\n",
       "    <tr>\n",
       "      <th>e803281219434ae4b01814392964cf3b</th>\n",
       "      <td>1.000000</td>\n",
       "      <td>1.318182</td>\n",
       "    </tr>\n",
       "    <tr>\n",
       "      <th>f1cd712fd86e4a52a53f2e6e39642a64</th>\n",
       "      <td>1.409091</td>\n",
       "      <td>1.090909</td>\n",
       "    </tr>\n",
       "    <tr>\n",
       "      <th>f988542961e241a7b24b9512ad2d6d25</th>\n",
       "      <td>1.000000</td>\n",
       "      <td>1.090909</td>\n",
       "    </tr>\n",
       "  </tbody>\n",
       "</table>\n",
       "</div>"
      ],
      "text/plain": [
       "                                     total  total_sexist\n",
       "question_id                                             \n",
       "01c138c6772d4dfda5bdd83a8fad7ed7  0.909091      1.090909\n",
       "02326f6b5cb94ec39770b90494192337  1.090909      1.363636\n",
       "08f7f1b1edcb493ea1dcf041cac33c8e  0.818182      1.136364\n",
       "21536adeb68b4917a00e8d81a2edbc8d  1.136364      2.136364\n",
       "2275746b725245c98c097908f2f7dd80  0.954545      0.954545\n",
       "24028b87b50d4ec491c9717592c56032  1.000000      0.954545\n",
       "2d2c88ad097a4c3c885bf5f197143cb1  0.954545      0.863636\n",
       "36d5d8ae1d52410082e9289eaccaeffd  1.409091      1.954545\n",
       "3962faf9d0c7466a9a7c3776f0e858a1  1.000000      1.454545\n",
       "3d2c20738326485ebfa1cce378bf0f83  1.136364      1.818182\n",
       "417f062684fb46c7ada9a4dd7e1cdcff  1.045455      1.045455\n",
       "49289f6b9e3b44038c7c34c12e73642e  1.000000      1.454545\n",
       "4c32a292a7d64368b708ae7164628ae8  0.909091      1.090909\n",
       "50e4b1bf514b4d8db48d9c41418421c5  1.318182      1.181818\n",
       "5dc6135f93f34ffe90dcfc793ae676db  0.681818      1.000000\n",
       "63b1b1da6651485893d3159aa75fbd12  1.000000      0.954545\n",
       "7f57fd03d796406e9ee9e264dabe2c6c  1.045455      1.136364\n",
       "817e720903324599b386ead33340ad91  1.000000      1.136364\n",
       "8233224db4984d07ae40f48e55c95cc3  0.863636      1.136364\n",
       "831fe2a9f0b94e60aaf3961a90445401  0.909091      0.954545\n",
       "927231f27b2c40dca9fb2c59b4b12c11  1.318182      1.227273\n",
       "943712adab674cb7b973a44fe67eb046  0.909091      1.000000\n",
       "96171664ec8f44b894a329b4390e8f18  1.045455      1.590909\n",
       "99b7ea95863f4364a13410bd6135ff66  0.954545      1.545455\n",
       "a709793b7da34731abac62b3480c6ff5  0.954545      1.409091\n",
       "b304033cba324823ad8dcd02a5076500  0.909091      1.363636\n",
       "b937279a0d504239a911271ead1349ce  0.818182      0.909091\n",
       "c9d083c86d2c4caaa3655e3c1d166f2c  1.090909      1.181818\n",
       "da969acc297840a6acf0df33928fe9c5  1.181818      1.000000\n",
       "e803281219434ae4b01814392964cf3b  1.000000      1.318182\n",
       "f1cd712fd86e4a52a53f2e6e39642a64  1.409091      1.090909\n",
       "f988542961e241a7b24b9512ad2d6d25  1.000000      1.090909"
      ]
     },
     "execution_count": 10,
     "metadata": {},
     "output_type": "execute_result"
    }
   ],
   "source": [
    "merged_df_ASI"
   ]
  },
  {
   "cell_type": "code",
   "execution_count": 11,
   "metadata": {},
   "outputs": [
    {
     "data": {
      "text/plain": [
       "TtestResult(statistic=-4.169355046936313, pvalue=0.00011382983699745297, df=31)"
      ]
     },
     "execution_count": 11,
     "metadata": {},
     "output_type": "execute_result"
    }
   ],
   "source": [
    "stats.ttest_rel(merged_df_ASI[\"total\"], merged_df_ASI[\"total_sexist\"], alternative=\"less\")"
   ]
  },
  {
   "cell_type": "markdown",
   "metadata": {},
   "source": [
    "## 2 Reference letters"
   ]
  }
 ],
 "metadata": {
  "kernelspec": {
   "display_name": "Master_Thesis",
   "language": "python",
   "name": "python3"
  },
  "language_info": {
   "codemirror_mode": {
    "name": "ipython",
    "version": 3
   },
   "file_extension": ".py",
   "mimetype": "text/x-python",
   "name": "python",
   "nbconvert_exporter": "python",
   "pygments_lexer": "ipython3",
   "version": "3.11.10"
  }
 },
 "nbformat": 4,
 "nbformat_minor": 2
}
