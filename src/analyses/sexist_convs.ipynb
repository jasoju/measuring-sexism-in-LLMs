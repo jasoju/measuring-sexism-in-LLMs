{
 "cells": [
  {
   "cell_type": "code",
   "execution_count": null,
   "metadata": {},
   "outputs": [],
   "source": [
    "import sys\n",
    "import os\n",
    "\n",
    "# Add the src directory to Python path\n",
    "sys.path.append(os.path.abspath(os.path.join(os.getcwd(), '..')))"
   ]
  },
  {
   "cell_type": "markdown",
   "metadata": {},
   "source": [
    "# Analyse sexist human-chatbot conversations"
   ]
  },
  {
   "cell_type": "code",
   "execution_count": null,
   "metadata": {},
   "outputs": [],
   "source": [
    "import pandas as pd\n",
    "import scipy.stats as stats\n",
    "\n",
    "from utils.output_data_preprocess import *"
   ]
  },
  {
   "cell_type": "markdown",
   "metadata": {},
   "source": [
    "## 1 ASI"
   ]
  },
  {
   "cell_type": "markdown",
   "metadata": {},
   "source": [
    "### Load data"
   ]
  },
  {
   "cell_type": "code",
   "execution_count": null,
   "metadata": {},
   "outputs": [],
   "source": [
    "file_ASI = \"Dolphin3.0-Llama3.1-8B__chatbot_arena_conv__ASI__2025-03-07_12-26\"\n",
    "\n",
    "############ ASI ############\n",
    "# Dolphin3.0-Llama3.1-8B__chatbot_arena_conv__ASI__2025-03-07_12-26\n",
    "\n",
    "# dolphin-2.8-mistral-7b-v02__chatbot_arena_conv__ASI__2025-02-10_05-13\n",
    "# dolphin-2.8-mistral-7b-v02__persona_hub__ASI__2025-02-10_07-42\n",
    "\n",
    "# Llama-3.1-8B-Instruct__chatbot_arena_conv__ASI__2025-02-06_00-05\n",
    "# Llama-3.1-8B-Instruct__persona_hub__ASI__2025-02-07_11-05\n",
    "\n",
    "# Mistral-7B-Instruct-v0.3__chatbot_arena_conv__ASI__2025-02-07_09-21 \n",
    "# Mistral-7B-Instruct-v0.3__persona_hub__ASI__2025-02-07_23-32\n",
    "\n",
    "\n",
    "# set up all needed variables depending on which dataset file is loaded\n",
    "context_var, context_name, context_file, model_name, model_id, task = get_file_vars(file_ASI)\n",
    "\n",
    "df_ASI = pd.read_csv(f\"..\\output_data\\wide\\wide__{file_ASI}.csv\", index_col=context_var)"
   ]
  },
  {
   "cell_type": "code",
   "execution_count": null,
   "metadata": {},
   "outputs": [],
   "source": [
    "file_ASI_sexist = \"Dolphin3.0-Llama3.1-8B__chatbot_arena_conv__ASI__2025-03-07_12-26\"\n",
    "\n",
    "############ ASI sexist ############\n",
    "\n",
    "\n",
    "df_ASI_sexist_long = pd.read_json(f\"..\\output_data\\{file_ASI_sexist}.json\", orient=\"columns\")"
   ]
  },
  {
   "cell_type": "markdown",
   "metadata": {},
   "source": [
    "### Preprocess data of sexist conversations"
   ]
  },
  {
   "cell_type": "code",
   "execution_count": null,
   "metadata": {},
   "outputs": [],
   "source": [
    "# reverse items\n",
    "df_ASI_sexist_long.loc[:,\"answer_reversed\"] = df_ASI_sexist_long.apply(reverse_answer, axis=1, args=(task,))\n",
    "\n",
    "# switch to wide format\n",
    "df_ASI_sexist = df_ASI_sexist_long.pivot(index=context_var, columns=\"item_id\", values=\"answer_reversed\")"
   ]
  },
  {
   "cell_type": "markdown",
   "metadata": {},
   "source": [
    "### Calculate total ASI scores"
   ]
  },
  {
   "cell_type": "code",
   "execution_count": null,
   "metadata": {},
   "outputs": [],
   "source": [
    "# original convs\n",
    "df_ASI[\"total\"] = df_ASI.mean(axis=1)\n",
    "# sexist convs\n",
    "df_ASI_sexist[\"total_sexist\"] = df_ASI_sexist.mean(axis=1)"
   ]
  },
  {
   "cell_type": "markdown",
   "metadata": {},
   "source": [
    "## 2 Reference letters"
   ]
  },
  {
   "cell_type": "markdown",
   "metadata": {},
   "source": [
    "### Load data"
   ]
  },
  {
   "cell_type": "code",
   "execution_count": null,
   "metadata": {},
   "outputs": [],
   "source": [
    "file_ref = \"Mistral-7B-Instruct-v0.3__persona_hub__ref_letter_generation__2025-03-04_15-39\"\n",
    "\n",
    "############ Ref letter generation ############\n",
    "# dolphin-2.8-mistral-7b-v02__chatbot_arena_conv__ref_letter_generation__2025-02-13_03-56\n",
    "# dolphin-2.8-mistral-7b-v02__persona_hub__ref_letter_generation__2025-03-04_06-05\n",
    "\n",
    "# Llama-3.1-8B-Instruct__chatbot_arena_conv__ref_letter_generation__2025-02-12_18-04\n",
    "# Llama-3.1-8B-Instruct__persona_hub__ref_letter_generation__2025-03-04_05-59\n",
    "\n",
    "# Mistral-7B-Instruct-v0.3__chatbot_arena_conv__ref_letter_generation__2025-02-13_01-04\n",
    "# Mistral-7B-Instruct-v0.3__persona_hub__ref_letter_generation__2025-03-04_15-39\n",
    "\n",
    "df_ref = pd.read_json(f\"..\\output_data\\{file_ref}.json\", orient=\"columns\")"
   ]
  },
  {
   "cell_type": "code",
   "execution_count": null,
   "metadata": {},
   "outputs": [],
   "source": [
    "file_ref_sexist = \"Mistral-7B-Instruct-v0.3__persona_hub__ref_letter_generation__2025-03-04_15-39\"\n",
    "\n",
    "############ Ref letter generation sexist ############\n",
    "\n",
    "\n",
    "df_ref_rexist = pd.read_json(f\"..\\output_data\\{file_ref_sexist}.json\", orient=\"columns\")"
   ]
  }
 ],
 "metadata": {
  "kernelspec": {
   "display_name": "Master_Thesis",
   "language": "python",
   "name": "python3"
  },
  "language_info": {
   "name": "python",
   "version": "3.11.10"
  }
 },
 "nbformat": 4,
 "nbformat_minor": 2
}
