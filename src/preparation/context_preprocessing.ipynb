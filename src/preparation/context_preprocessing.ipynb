{
 "cells": [
  {
   "cell_type": "markdown",
   "metadata": {},
   "source": [
    "# Preprocessing context dataframe"
   ]
  },
  {
   "cell_type": "code",
   "execution_count": 1,
   "metadata": {},
   "outputs": [],
   "source": [
    "import pandas as pd\n",
    "import numpy as np\n",
    "import json"
   ]
  },
  {
   "cell_type": "code",
   "execution_count": 2,
   "metadata": {},
   "outputs": [
    {
     "name": "stdout",
     "output_type": "stream",
     "text": [
      "The token has not been saved to the git credentials helper. Pass `add_to_git_credential=True` in this function directly or `--add-to-git-credential` if using via `huggingface-cli` if you want to set the git credential as well.\n",
      "Token is valid (permission: write).\n",
      "Your token has been saved to /pfs/work7/workspace/scratch/ma_janjung-master-thesis\\token\n",
      "Login successful\n"
     ]
    }
   ],
   "source": [
    "import os\n",
    "from huggingface_hub import login\n",
    "\n",
    "HF_TOKEN = os.getenv('HF_TOKEN')\n",
    "login(HF_TOKEN)"
   ]
  },
  {
   "cell_type": "markdown",
   "metadata": {},
   "source": [
    "## Load data"
   ]
  },
  {
   "cell_type": "code",
   "execution_count": 3,
   "metadata": {},
   "outputs": [],
   "source": [
    "df = pd.read_parquet(\"hf://datasets/lmsys/chatbot_arena_conversations/data/train-00000-of-00001-cced8514c7ed782a.parquet\")"
   ]
  },
  {
   "cell_type": "markdown",
   "metadata": {},
   "source": [
    "## Clean dataframe"
   ]
  },
  {
   "cell_type": "code",
   "execution_count": 4,
   "metadata": {},
   "outputs": [
    {
     "name": "stdout",
     "output_type": "stream",
     "text": [
      "N = 33000\n"
     ]
    },
    {
     "data": {
      "text/html": [
       "<div>\n",
       "<style scoped>\n",
       "    .dataframe tbody tr th:only-of-type {\n",
       "        vertical-align: middle;\n",
       "    }\n",
       "\n",
       "    .dataframe tbody tr th {\n",
       "        vertical-align: top;\n",
       "    }\n",
       "\n",
       "    .dataframe thead th {\n",
       "        text-align: right;\n",
       "    }\n",
       "</style>\n",
       "<table border=\"1\" class=\"dataframe\">\n",
       "  <thead>\n",
       "    <tr style=\"text-align: right;\">\n",
       "      <th></th>\n",
       "      <th>question_id</th>\n",
       "      <th>model_a</th>\n",
       "      <th>model_b</th>\n",
       "      <th>winner</th>\n",
       "      <th>judge</th>\n",
       "      <th>conversation_a</th>\n",
       "      <th>conversation_b</th>\n",
       "      <th>turn</th>\n",
       "      <th>anony</th>\n",
       "      <th>language</th>\n",
       "      <th>tstamp</th>\n",
       "      <th>openai_moderation</th>\n",
       "      <th>toxic_chat_tag</th>\n",
       "    </tr>\n",
       "  </thead>\n",
       "  <tbody>\n",
       "    <tr>\n",
       "      <th>0</th>\n",
       "      <td>58210e39b3fd4441a2bd4a518bb44c2d</td>\n",
       "      <td>chatglm-6b</td>\n",
       "      <td>koala-13b</td>\n",
       "      <td>model_b</td>\n",
       "      <td>arena_user_973</td>\n",
       "      <td>[{'content': 'What is the difference between O...</td>\n",
       "      <td>[{'content': 'What is the difference between O...</td>\n",
       "      <td>1</td>\n",
       "      <td>True</td>\n",
       "      <td>English</td>\n",
       "      <td>1.682352e+09</td>\n",
       "      <td>{'categories': {'harassment': False, 'harassme...</td>\n",
       "      <td>{'roberta-large': {'flagged': False, 'probabil...</td>\n",
       "    </tr>\n",
       "    <tr>\n",
       "      <th>1</th>\n",
       "      <td>2564acd09e3942fd97657d05282d4389</td>\n",
       "      <td>oasst-pythia-12b</td>\n",
       "      <td>alpaca-13b</td>\n",
       "      <td>tie</td>\n",
       "      <td>arena_user_973</td>\n",
       "      <td>[{'content': 'Why did my parent not invite me ...</td>\n",
       "      <td>[{'content': 'Why did my parent not invite me ...</td>\n",
       "      <td>1</td>\n",
       "      <td>True</td>\n",
       "      <td>English</td>\n",
       "      <td>1.682352e+09</td>\n",
       "      <td>{'categories': {'harassment': False, 'harassme...</td>\n",
       "      <td>{'roberta-large': {'flagged': False, 'probabil...</td>\n",
       "    </tr>\n",
       "    <tr>\n",
       "      <th>2</th>\n",
       "      <td>90bfd142157948aba01931726c888e7f</td>\n",
       "      <td>koala-13b</td>\n",
       "      <td>oasst-pythia-12b</td>\n",
       "      <td>model_b</td>\n",
       "      <td>arena_user_973</td>\n",
       "      <td>[{'content': 'Fuji vs. Nikon, which is better?...</td>\n",
       "      <td>[{'content': 'Fuji vs. Nikon, which is better?...</td>\n",
       "      <td>1</td>\n",
       "      <td>True</td>\n",
       "      <td>English</td>\n",
       "      <td>1.682352e+09</td>\n",
       "      <td>{'categories': {'harassment': False, 'harassme...</td>\n",
       "      <td>{'roberta-large': {'flagged': False, 'probabil...</td>\n",
       "    </tr>\n",
       "    <tr>\n",
       "      <th>3</th>\n",
       "      <td>a7c5accc53e649a3bc6b2e41d962ebc4</td>\n",
       "      <td>vicuna-13b</td>\n",
       "      <td>oasst-pythia-12b</td>\n",
       "      <td>model_b</td>\n",
       "      <td>arena_user_973</td>\n",
       "      <td>[{'content': 'How to build an arena for chatbo...</td>\n",
       "      <td>[{'content': 'How to build an arena for chatbo...</td>\n",
       "      <td>1</td>\n",
       "      <td>True</td>\n",
       "      <td>English</td>\n",
       "      <td>1.682352e+09</td>\n",
       "      <td>{'categories': {'harassment': False, 'harassme...</td>\n",
       "      <td>{'roberta-large': {'flagged': False, 'probabil...</td>\n",
       "    </tr>\n",
       "    <tr>\n",
       "      <th>4</th>\n",
       "      <td>adf27e819a3c494cb6e993f0c660e097</td>\n",
       "      <td>vicuna-13b</td>\n",
       "      <td>koala-13b</td>\n",
       "      <td>model_a</td>\n",
       "      <td>arena_user_973</td>\n",
       "      <td>[{'content': 'When is it today?', 'role': 'use...</td>\n",
       "      <td>[{'content': 'When is it today?', 'role': 'use...</td>\n",
       "      <td>1</td>\n",
       "      <td>True</td>\n",
       "      <td>English</td>\n",
       "      <td>1.682352e+09</td>\n",
       "      <td>{'categories': {'harassment': False, 'harassme...</td>\n",
       "      <td>{'roberta-large': {'flagged': False, 'probabil...</td>\n",
       "    </tr>\n",
       "  </tbody>\n",
       "</table>\n",
       "</div>"
      ],
      "text/plain": [
       "                        question_id           model_a           model_b  \\\n",
       "0  58210e39b3fd4441a2bd4a518bb44c2d        chatglm-6b         koala-13b   \n",
       "1  2564acd09e3942fd97657d05282d4389  oasst-pythia-12b        alpaca-13b   \n",
       "2  90bfd142157948aba01931726c888e7f         koala-13b  oasst-pythia-12b   \n",
       "3  a7c5accc53e649a3bc6b2e41d962ebc4        vicuna-13b  oasst-pythia-12b   \n",
       "4  adf27e819a3c494cb6e993f0c660e097        vicuna-13b         koala-13b   \n",
       "\n",
       "    winner           judge                                     conversation_a  \\\n",
       "0  model_b  arena_user_973  [{'content': 'What is the difference between O...   \n",
       "1      tie  arena_user_973  [{'content': 'Why did my parent not invite me ...   \n",
       "2  model_b  arena_user_973  [{'content': 'Fuji vs. Nikon, which is better?...   \n",
       "3  model_b  arena_user_973  [{'content': 'How to build an arena for chatbo...   \n",
       "4  model_a  arena_user_973  [{'content': 'When is it today?', 'role': 'use...   \n",
       "\n",
       "                                      conversation_b  turn  anony language  \\\n",
       "0  [{'content': 'What is the difference between O...     1   True  English   \n",
       "1  [{'content': 'Why did my parent not invite me ...     1   True  English   \n",
       "2  [{'content': 'Fuji vs. Nikon, which is better?...     1   True  English   \n",
       "3  [{'content': 'How to build an arena for chatbo...     1   True  English   \n",
       "4  [{'content': 'When is it today?', 'role': 'use...     1   True  English   \n",
       "\n",
       "         tstamp                                  openai_moderation  \\\n",
       "0  1.682352e+09  {'categories': {'harassment': False, 'harassme...   \n",
       "1  1.682352e+09  {'categories': {'harassment': False, 'harassme...   \n",
       "2  1.682352e+09  {'categories': {'harassment': False, 'harassme...   \n",
       "3  1.682352e+09  {'categories': {'harassment': False, 'harassme...   \n",
       "4  1.682352e+09  {'categories': {'harassment': False, 'harassme...   \n",
       "\n",
       "                                      toxic_chat_tag  \n",
       "0  {'roberta-large': {'flagged': False, 'probabil...  \n",
       "1  {'roberta-large': {'flagged': False, 'probabil...  \n",
       "2  {'roberta-large': {'flagged': False, 'probabil...  \n",
       "3  {'roberta-large': {'flagged': False, 'probabil...  \n",
       "4  {'roberta-large': {'flagged': False, 'probabil...  "
      ]
     },
     "execution_count": 4,
     "metadata": {},
     "output_type": "execute_result"
    }
   ],
   "source": [
    "print('N =', len(df))\n",
    "df.head()"
   ]
  },
  {
   "cell_type": "code",
   "execution_count": 5,
   "metadata": {},
   "outputs": [],
   "source": [
    "# only select english conversations\n",
    "df_english = df.loc[df['language']=='English']"
   ]
  },
  {
   "cell_type": "code",
   "execution_count": 6,
   "metadata": {},
   "outputs": [
    {
     "name": "stdout",
     "output_type": "stream",
     "text": [
      "N = 29206\n"
     ]
    },
    {
     "data": {
      "text/html": [
       "<div>\n",
       "<style scoped>\n",
       "    .dataframe tbody tr th:only-of-type {\n",
       "        vertical-align: middle;\n",
       "    }\n",
       "\n",
       "    .dataframe tbody tr th {\n",
       "        vertical-align: top;\n",
       "    }\n",
       "\n",
       "    .dataframe thead th {\n",
       "        text-align: right;\n",
       "    }\n",
       "</style>\n",
       "<table border=\"1\" class=\"dataframe\">\n",
       "  <thead>\n",
       "    <tr style=\"text-align: right;\">\n",
       "      <th></th>\n",
       "      <th>question_id</th>\n",
       "      <th>model_a</th>\n",
       "      <th>model_b</th>\n",
       "      <th>winner</th>\n",
       "      <th>judge</th>\n",
       "      <th>conversation_a</th>\n",
       "      <th>conversation_b</th>\n",
       "      <th>turn</th>\n",
       "      <th>anony</th>\n",
       "      <th>language</th>\n",
       "      <th>tstamp</th>\n",
       "      <th>openai_moderation</th>\n",
       "      <th>toxic_chat_tag</th>\n",
       "    </tr>\n",
       "  </thead>\n",
       "  <tbody>\n",
       "    <tr>\n",
       "      <th>0</th>\n",
       "      <td>58210e39b3fd4441a2bd4a518bb44c2d</td>\n",
       "      <td>chatglm-6b</td>\n",
       "      <td>koala-13b</td>\n",
       "      <td>model_b</td>\n",
       "      <td>arena_user_973</td>\n",
       "      <td>[{'content': 'What is the difference between O...</td>\n",
       "      <td>[{'content': 'What is the difference between O...</td>\n",
       "      <td>1</td>\n",
       "      <td>True</td>\n",
       "      <td>English</td>\n",
       "      <td>1.682352e+09</td>\n",
       "      <td>{'categories': {'harassment': False, 'harassme...</td>\n",
       "      <td>{'roberta-large': {'flagged': False, 'probabil...</td>\n",
       "    </tr>\n",
       "    <tr>\n",
       "      <th>1</th>\n",
       "      <td>2564acd09e3942fd97657d05282d4389</td>\n",
       "      <td>oasst-pythia-12b</td>\n",
       "      <td>alpaca-13b</td>\n",
       "      <td>tie</td>\n",
       "      <td>arena_user_973</td>\n",
       "      <td>[{'content': 'Why did my parent not invite me ...</td>\n",
       "      <td>[{'content': 'Why did my parent not invite me ...</td>\n",
       "      <td>1</td>\n",
       "      <td>True</td>\n",
       "      <td>English</td>\n",
       "      <td>1.682352e+09</td>\n",
       "      <td>{'categories': {'harassment': False, 'harassme...</td>\n",
       "      <td>{'roberta-large': {'flagged': False, 'probabil...</td>\n",
       "    </tr>\n",
       "    <tr>\n",
       "      <th>2</th>\n",
       "      <td>90bfd142157948aba01931726c888e7f</td>\n",
       "      <td>koala-13b</td>\n",
       "      <td>oasst-pythia-12b</td>\n",
       "      <td>model_b</td>\n",
       "      <td>arena_user_973</td>\n",
       "      <td>[{'content': 'Fuji vs. Nikon, which is better?...</td>\n",
       "      <td>[{'content': 'Fuji vs. Nikon, which is better?...</td>\n",
       "      <td>1</td>\n",
       "      <td>True</td>\n",
       "      <td>English</td>\n",
       "      <td>1.682352e+09</td>\n",
       "      <td>{'categories': {'harassment': False, 'harassme...</td>\n",
       "      <td>{'roberta-large': {'flagged': False, 'probabil...</td>\n",
       "    </tr>\n",
       "    <tr>\n",
       "      <th>3</th>\n",
       "      <td>a7c5accc53e649a3bc6b2e41d962ebc4</td>\n",
       "      <td>vicuna-13b</td>\n",
       "      <td>oasst-pythia-12b</td>\n",
       "      <td>model_b</td>\n",
       "      <td>arena_user_973</td>\n",
       "      <td>[{'content': 'How to build an arena for chatbo...</td>\n",
       "      <td>[{'content': 'How to build an arena for chatbo...</td>\n",
       "      <td>1</td>\n",
       "      <td>True</td>\n",
       "      <td>English</td>\n",
       "      <td>1.682352e+09</td>\n",
       "      <td>{'categories': {'harassment': False, 'harassme...</td>\n",
       "      <td>{'roberta-large': {'flagged': False, 'probabil...</td>\n",
       "    </tr>\n",
       "    <tr>\n",
       "      <th>4</th>\n",
       "      <td>adf27e819a3c494cb6e993f0c660e097</td>\n",
       "      <td>vicuna-13b</td>\n",
       "      <td>koala-13b</td>\n",
       "      <td>model_a</td>\n",
       "      <td>arena_user_973</td>\n",
       "      <td>[{'content': 'When is it today?', 'role': 'use...</td>\n",
       "      <td>[{'content': 'When is it today?', 'role': 'use...</td>\n",
       "      <td>1</td>\n",
       "      <td>True</td>\n",
       "      <td>English</td>\n",
       "      <td>1.682352e+09</td>\n",
       "      <td>{'categories': {'harassment': False, 'harassme...</td>\n",
       "      <td>{'roberta-large': {'flagged': False, 'probabil...</td>\n",
       "    </tr>\n",
       "  </tbody>\n",
       "</table>\n",
       "</div>"
      ],
      "text/plain": [
       "                        question_id           model_a           model_b  \\\n",
       "0  58210e39b3fd4441a2bd4a518bb44c2d        chatglm-6b         koala-13b   \n",
       "1  2564acd09e3942fd97657d05282d4389  oasst-pythia-12b        alpaca-13b   \n",
       "2  90bfd142157948aba01931726c888e7f         koala-13b  oasst-pythia-12b   \n",
       "3  a7c5accc53e649a3bc6b2e41d962ebc4        vicuna-13b  oasst-pythia-12b   \n",
       "4  adf27e819a3c494cb6e993f0c660e097        vicuna-13b         koala-13b   \n",
       "\n",
       "    winner           judge                                     conversation_a  \\\n",
       "0  model_b  arena_user_973  [{'content': 'What is the difference between O...   \n",
       "1      tie  arena_user_973  [{'content': 'Why did my parent not invite me ...   \n",
       "2  model_b  arena_user_973  [{'content': 'Fuji vs. Nikon, which is better?...   \n",
       "3  model_b  arena_user_973  [{'content': 'How to build an arena for chatbo...   \n",
       "4  model_a  arena_user_973  [{'content': 'When is it today?', 'role': 'use...   \n",
       "\n",
       "                                      conversation_b  turn  anony language  \\\n",
       "0  [{'content': 'What is the difference between O...     1   True  English   \n",
       "1  [{'content': 'Why did my parent not invite me ...     1   True  English   \n",
       "2  [{'content': 'Fuji vs. Nikon, which is better?...     1   True  English   \n",
       "3  [{'content': 'How to build an arena for chatbo...     1   True  English   \n",
       "4  [{'content': 'When is it today?', 'role': 'use...     1   True  English   \n",
       "\n",
       "         tstamp                                  openai_moderation  \\\n",
       "0  1.682352e+09  {'categories': {'harassment': False, 'harassme...   \n",
       "1  1.682352e+09  {'categories': {'harassment': False, 'harassme...   \n",
       "2  1.682352e+09  {'categories': {'harassment': False, 'harassme...   \n",
       "3  1.682352e+09  {'categories': {'harassment': False, 'harassme...   \n",
       "4  1.682352e+09  {'categories': {'harassment': False, 'harassme...   \n",
       "\n",
       "                                      toxic_chat_tag  \n",
       "0  {'roberta-large': {'flagged': False, 'probabil...  \n",
       "1  {'roberta-large': {'flagged': False, 'probabil...  \n",
       "2  {'roberta-large': {'flagged': False, 'probabil...  \n",
       "3  {'roberta-large': {'flagged': False, 'probabil...  \n",
       "4  {'roberta-large': {'flagged': False, 'probabil...  "
      ]
     },
     "execution_count": 6,
     "metadata": {},
     "output_type": "execute_result"
    }
   ],
   "source": [
    "print('N =', len(df_english))\n",
    "df_english.head()"
   ]
  },
  {
   "cell_type": "code",
   "execution_count": 7,
   "metadata": {},
   "outputs": [],
   "source": [
    "df_cleaned = df_english[['question_id', 'model_a', 'conversation_a']]\n",
    "df_cleaned = df_cleaned.rename(columns={'model_a':'model', 'conversation_a':'conversation'})"
   ]
  },
  {
   "cell_type": "code",
   "execution_count": 9,
   "metadata": {},
   "outputs": [],
   "source": [
    "df_cleaned.to_json(\"../data/context.json\")"
   ]
  },
  {
   "cell_type": "code",
   "execution_count": 19,
   "metadata": {},
   "outputs": [],
   "source": [
    "#df_cleaned.to_csv(\"../data/context.csv\")"
   ]
  },
  {
   "cell_type": "markdown",
   "metadata": {},
   "source": [
    "## Descriptives"
   ]
  },
  {
   "cell_type": "code",
   "execution_count": 17,
   "metadata": {},
   "outputs": [
    {
     "data": {
      "text/plain": [
       "array([{'content': 'What is the difference between OpenCL and CUDA?', 'role': 'user'},\n",
       "       {'content': 'OpenCL and CUDA are two different programming models that are used for parallel computing.OpenCL is a general-purpose并行编程接口 that allows developers to write parallel code that can run on any platform that supportsCL, which includes most modern operating systems and computer systems, including Windows, Linux, and macOS. It provides a lower-level, more flexible API that is more suitable for building large-scale distributed computing systems.CUDA is a specific implementation ofOpenCL that is designed for performance and scalability in devices with multiple GPU(s). It was developed by Nvidia and is widely used for scientific computing, machine learning, and图形图像处理. The CUDA API provides a high-level, more efficient way to write parallel code that can run on top of a GPU, while still maintaining the ability to write code that can be easily adapted for other parallel computing platforms.', 'role': 'assistant'}],\n",
       "      dtype=object)"
      ]
     },
     "execution_count": 17,
     "metadata": {},
     "output_type": "execute_result"
    }
   ],
   "source": [
    "df_cleaned.loc[0][\"conversation\"]"
   ]
  }
 ],
 "metadata": {
  "kernelspec": {
   "display_name": "Master_Thesis",
   "language": "python",
   "name": "python3"
  },
  "language_info": {
   "codemirror_mode": {
    "name": "ipython",
    "version": 3
   },
   "file_extension": ".py",
   "mimetype": "text/x-python",
   "name": "python",
   "nbconvert_exporter": "python",
   "pygments_lexer": "ipython3",
   "version": "3.11.10"
  }
 },
 "nbformat": 4,
 "nbformat_minor": 2
}
