{
 "cells": [
  {
   "cell_type": "code",
   "execution_count": 3,
   "metadata": {},
   "outputs": [],
   "source": [
    "import pandas as pd\n",
    "import numpy as np"
   ]
  },
  {
   "cell_type": "code",
   "execution_count": 4,
   "metadata": {},
   "outputs": [],
   "source": [
    "df = pd.read_json(f\"../input_data/chatbot_arena_conv.json\", orient=\"columns\")"
   ]
  },
  {
   "cell_type": "code",
   "execution_count": 5,
   "metadata": {},
   "outputs": [
    {
     "data": {
      "text/html": [
       "<div>\n",
       "<style scoped>\n",
       "    .dataframe tbody tr th:only-of-type {\n",
       "        vertical-align: middle;\n",
       "    }\n",
       "\n",
       "    .dataframe tbody tr th {\n",
       "        vertical-align: top;\n",
       "    }\n",
       "\n",
       "    .dataframe thead th {\n",
       "        text-align: right;\n",
       "    }\n",
       "</style>\n",
       "<table border=\"1\" class=\"dataframe\">\n",
       "  <thead>\n",
       "    <tr style=\"text-align: right;\">\n",
       "      <th></th>\n",
       "      <th>question_id</th>\n",
       "      <th>model</th>\n",
       "      <th>conversation</th>\n",
       "    </tr>\n",
       "  </thead>\n",
       "  <tbody>\n",
       "    <tr>\n",
       "      <th>2916</th>\n",
       "      <td>da969acc297840a6acf0df33928fe9c5</td>\n",
       "      <td>dolly-v2-12b</td>\n",
       "      <td>[{'content': 'Write a sonnet about cats.', 'ro...</td>\n",
       "    </tr>\n",
       "    <tr>\n",
       "      <th>19317</th>\n",
       "      <td>c9d083c86d2c4caaa3655e3c1d166f2c</td>\n",
       "      <td>oasst-pythia-12b</td>\n",
       "      <td>[{'content': 'Write a ten sentence long negati...</td>\n",
       "    </tr>\n",
       "    <tr>\n",
       "      <th>3525</th>\n",
       "      <td>0773da81b90c4516a25c27591f5b67f8</td>\n",
       "      <td>alpaca-13b</td>\n",
       "      <td>[{'content': 'who is tame impala', 'role': 'us...</td>\n",
       "    </tr>\n",
       "    <tr>\n",
       "      <th>12409</th>\n",
       "      <td>63b1b1da6651485893d3159aa75fbd12</td>\n",
       "      <td>claude-v1</td>\n",
       "      <td>[{'content': 'Give me a 1 minute elevator spee...</td>\n",
       "    </tr>\n",
       "    <tr>\n",
       "      <th>8315</th>\n",
       "      <td>f1cd712fd86e4a52a53f2e6e39642a64</td>\n",
       "      <td>koala-13b</td>\n",
       "      <td>[{'content': 'Clarabelle was the prettiest gal...</td>\n",
       "    </tr>\n",
       "    <tr>\n",
       "      <th>...</th>\n",
       "      <td>...</td>\n",
       "      <td>...</td>\n",
       "      <td>...</td>\n",
       "    </tr>\n",
       "    <tr>\n",
       "      <th>11241</th>\n",
       "      <td>192e25a94bfa42e8b51762c2888b7364</td>\n",
       "      <td>claude-v1</td>\n",
       "      <td>[{'content': 'Is it possible for BIll Gates an...</td>\n",
       "    </tr>\n",
       "    <tr>\n",
       "      <th>10946</th>\n",
       "      <td>6f9e34e4515f44f6bdc243a55b907ca1</td>\n",
       "      <td>gpt-4</td>\n",
       "      <td>[{'content': 'how is it going my friend', 'rol...</td>\n",
       "    </tr>\n",
       "    <tr>\n",
       "      <th>26781</th>\n",
       "      <td>fdd8f862b7ee4fdbb0359c837f33ad53</td>\n",
       "      <td>oasst-pythia-12b</td>\n",
       "      <td>[{'content': 'Name the first ten US presidents...</td>\n",
       "    </tr>\n",
       "    <tr>\n",
       "      <th>21656</th>\n",
       "      <td>6d187059b14c4e80af270efe7c35186e</td>\n",
       "      <td>gpt-4</td>\n",
       "      <td>[{'content': 'linux ou windows?', 'role': 'use...</td>\n",
       "    </tr>\n",
       "    <tr>\n",
       "      <th>2356</th>\n",
       "      <td>21536adeb68b4917a00e8d81a2edbc8d</td>\n",
       "      <td>koala-13b</td>\n",
       "      <td>[{'content': 'I got a flower shop and I need t...</td>\n",
       "    </tr>\n",
       "  </tbody>\n",
       "</table>\n",
       "<p>300 rows × 3 columns</p>\n",
       "</div>"
      ],
      "text/plain": [
       "                            question_id             model  \\\n",
       "2916   da969acc297840a6acf0df33928fe9c5      dolly-v2-12b   \n",
       "19317  c9d083c86d2c4caaa3655e3c1d166f2c  oasst-pythia-12b   \n",
       "3525   0773da81b90c4516a25c27591f5b67f8        alpaca-13b   \n",
       "12409  63b1b1da6651485893d3159aa75fbd12         claude-v1   \n",
       "8315   f1cd712fd86e4a52a53f2e6e39642a64         koala-13b   \n",
       "...                                 ...               ...   \n",
       "11241  192e25a94bfa42e8b51762c2888b7364         claude-v1   \n",
       "10946  6f9e34e4515f44f6bdc243a55b907ca1             gpt-4   \n",
       "26781  fdd8f862b7ee4fdbb0359c837f33ad53  oasst-pythia-12b   \n",
       "21656  6d187059b14c4e80af270efe7c35186e             gpt-4   \n",
       "2356   21536adeb68b4917a00e8d81a2edbc8d         koala-13b   \n",
       "\n",
       "                                            conversation  \n",
       "2916   [{'content': 'Write a sonnet about cats.', 'ro...  \n",
       "19317  [{'content': 'Write a ten sentence long negati...  \n",
       "3525   [{'content': 'who is tame impala', 'role': 'us...  \n",
       "12409  [{'content': 'Give me a 1 minute elevator spee...  \n",
       "8315   [{'content': 'Clarabelle was the prettiest gal...  \n",
       "...                                                  ...  \n",
       "11241  [{'content': 'Is it possible for BIll Gates an...  \n",
       "10946  [{'content': 'how is it going my friend', 'rol...  \n",
       "26781  [{'content': 'Name the first ten US presidents...  \n",
       "21656  [{'content': 'linux ou windows?', 'role': 'use...  \n",
       "2356   [{'content': 'I got a flower shop and I need t...  \n",
       "\n",
       "[300 rows x 3 columns]"
      ]
     },
     "execution_count": 5,
     "metadata": {},
     "output_type": "execute_result"
    }
   ],
   "source": [
    "df"
   ]
  },
  {
   "cell_type": "code",
   "execution_count": 6,
   "metadata": {},
   "outputs": [],
   "source": [
    "df.to_csv(\"chatbot_arena_conv_manual_check.csv\", sep=\";\")"
   ]
  }
 ],
 "metadata": {
  "kernelspec": {
   "display_name": "Master_Thesis",
   "language": "python",
   "name": "python3"
  },
  "language_info": {
   "codemirror_mode": {
    "name": "ipython",
    "version": 3
   },
   "file_extension": ".py",
   "mimetype": "text/x-python",
   "name": "python",
   "nbconvert_exporter": "python",
   "pygments_lexer": "ipython3",
   "version": "3.11.10"
  }
 },
 "nbformat": 4,
 "nbformat_minor": 2
}
