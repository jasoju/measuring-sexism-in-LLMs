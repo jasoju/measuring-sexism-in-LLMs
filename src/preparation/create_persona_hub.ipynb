{
 "cells": [
  {
   "cell_type": "markdown",
   "metadata": {
    "vscode": {
     "languageId": "plaintext"
    }
   },
   "source": [
    "# Create a preprocessed dataframe containing personas from the persona hub"
   ]
  },
  {
   "cell_type": "markdown",
   "metadata": {},
   "source": [
    "Data: https://huggingface.co/datasets/proj-persona/PersonaHub"
   ]
  },
  {
   "cell_type": "code",
   "execution_count": 19,
   "metadata": {},
   "outputs": [],
   "source": [
    "import pandas as pd"
   ]
  },
  {
   "cell_type": "code",
   "execution_count": 20,
   "metadata": {},
   "outputs": [
    {
     "name": "stdout",
     "output_type": "stream",
     "text": [
      "The token has not been saved to the git credentials helper. Pass `add_to_git_credential=True` in this function directly or `--add-to-git-credential` if using via `huggingface-cli` if you want to set the git credential as well.\n",
      "Token is valid (permission: write).\n",
      "Your token has been saved to /pfs/work7/workspace/scratch/ma_janjung-master-thesis\\token\n",
      "Login successful\n"
     ]
    }
   ],
   "source": [
    "import os\n",
    "from huggingface_hub import login\n",
    "\n",
    "HF_TOKEN = os.getenv('HF_TOKEN')\n",
    "login(HF_TOKEN)"
   ]
  },
  {
   "cell_type": "markdown",
   "metadata": {},
   "source": [
    "## Load data"
   ]
  },
  {
   "cell_type": "code",
   "execution_count": 21,
   "metadata": {},
   "outputs": [],
   "source": [
    "df = pd.read_json(\"hf://datasets/proj-persona/PersonaHub/persona.jsonl\", lines=True)"
   ]
  },
  {
   "cell_type": "code",
   "execution_count": 22,
   "metadata": {},
   "outputs": [
    {
     "name": "stdout",
     "output_type": "stream",
     "text": [
      "N = 200000\n"
     ]
    },
    {
     "data": {
      "text/html": [
       "<div>\n",
       "<style scoped>\n",
       "    .dataframe tbody tr th:only-of-type {\n",
       "        vertical-align: middle;\n",
       "    }\n",
       "\n",
       "    .dataframe tbody tr th {\n",
       "        vertical-align: top;\n",
       "    }\n",
       "\n",
       "    .dataframe thead th {\n",
       "        text-align: right;\n",
       "    }\n",
       "</style>\n",
       "<table border=\"1\" class=\"dataframe\">\n",
       "  <thead>\n",
       "    <tr style=\"text-align: right;\">\n",
       "      <th></th>\n",
       "      <th>persona</th>\n",
       "    </tr>\n",
       "  </thead>\n",
       "  <tbody>\n",
       "    <tr>\n",
       "      <th>0</th>\n",
       "      <td>A Political Analyst specialized in El Salvador...</td>\n",
       "    </tr>\n",
       "    <tr>\n",
       "      <th>1</th>\n",
       "      <td>A legal advisor who understands the legal impl...</td>\n",
       "    </tr>\n",
       "    <tr>\n",
       "      <th>2</th>\n",
       "      <td>A maternal health advocate focused on raising ...</td>\n",
       "    </tr>\n",
       "    <tr>\n",
       "      <th>3</th>\n",
       "      <td>A school basketball team captain who believes ...</td>\n",
       "    </tr>\n",
       "    <tr>\n",
       "      <th>4</th>\n",
       "      <td>A determined basketball player who aspires to ...</td>\n",
       "    </tr>\n",
       "  </tbody>\n",
       "</table>\n",
       "</div>"
      ],
      "text/plain": [
       "                                             persona\n",
       "0  A Political Analyst specialized in El Salvador...\n",
       "1  A legal advisor who understands the legal impl...\n",
       "2  A maternal health advocate focused on raising ...\n",
       "3  A school basketball team captain who believes ...\n",
       "4  A determined basketball player who aspires to ..."
      ]
     },
     "execution_count": 22,
     "metadata": {},
     "output_type": "execute_result"
    }
   ],
   "source": [
    "print('N =', len(df))\n",
    "df.head()"
   ]
  },
  {
   "cell_type": "code",
   "execution_count": 23,
   "metadata": {},
   "outputs": [],
   "source": [
    "# add id column for easier matching later on \n",
    "df[\"persona_id\"] = df.index\n",
    "df = df[[\"persona_id\", \"persona\"]]"
   ]
  },
  {
   "cell_type": "code",
   "execution_count": 24,
   "metadata": {},
   "outputs": [
    {
     "name": "stdout",
     "output_type": "stream",
     "text": [
      "N = 300\n"
     ]
    }
   ],
   "source": [
    "# randomly sample 300 personas\n",
    "df_sample = df.sample(n=300)\n",
    "print('N =', len(df_sample))"
   ]
  },
  {
   "cell_type": "markdown",
   "metadata": {},
   "source": [
    "## Create system prompt based on persona"
   ]
  },
  {
   "cell_type": "code",
   "execution_count": 25,
   "metadata": {},
   "outputs": [],
   "source": [
    "df_sample[\"persona\"] = df_sample[\"persona\"].apply(lambda x: x[0].lower() + x[1:] if x else x)"
   ]
  },
  {
   "cell_type": "code",
   "execution_count": 26,
   "metadata": {},
   "outputs": [],
   "source": [
    "def create_prompt(row):\n",
    "    persona = row[\"persona\"]\n",
    "    prompt = [{\"role\":\"system\", \"content\":f\"You are {persona}. Answer and behave accordingly.\"}]\n",
    "\n",
    "    return prompt"
   ]
  },
  {
   "cell_type": "code",
   "execution_count": 27,
   "metadata": {},
   "outputs": [],
   "source": [
    "df_sample[\"persona_prompt\"] = df_sample.apply(create_prompt, axis=1)"
   ]
  },
  {
   "cell_type": "code",
   "execution_count": 28,
   "metadata": {},
   "outputs": [
    {
     "data": {
      "text/html": [
       "<div>\n",
       "<style scoped>\n",
       "    .dataframe tbody tr th:only-of-type {\n",
       "        vertical-align: middle;\n",
       "    }\n",
       "\n",
       "    .dataframe tbody tr th {\n",
       "        vertical-align: top;\n",
       "    }\n",
       "\n",
       "    .dataframe thead th {\n",
       "        text-align: right;\n",
       "    }\n",
       "</style>\n",
       "<table border=\"1\" class=\"dataframe\">\n",
       "  <thead>\n",
       "    <tr style=\"text-align: right;\">\n",
       "      <th></th>\n",
       "      <th>persona_id</th>\n",
       "      <th>persona</th>\n",
       "      <th>persona_prompt</th>\n",
       "    </tr>\n",
       "  </thead>\n",
       "  <tbody>\n",
       "    <tr>\n",
       "      <th>85519</th>\n",
       "      <td>85519</td>\n",
       "      <td>a patient who participated in a clinical trial...</td>\n",
       "      <td>[{'role': 'system', 'content': 'You are a pati...</td>\n",
       "    </tr>\n",
       "    <tr>\n",
       "      <th>126701</th>\n",
       "      <td>126701</td>\n",
       "      <td>an introverted accountant who is extremely det...</td>\n",
       "      <td>[{'role': 'system', 'content': 'You are an int...</td>\n",
       "    </tr>\n",
       "    <tr>\n",
       "      <th>179838</th>\n",
       "      <td>179838</td>\n",
       "      <td>a graphics programmer who shares and discusses...</td>\n",
       "      <td>[{'role': 'system', 'content': 'You are a grap...</td>\n",
       "    </tr>\n",
       "    <tr>\n",
       "      <th>108473</th>\n",
       "      <td>108473</td>\n",
       "      <td>a crime novel enthusiast university lecturer w...</td>\n",
       "      <td>[{'role': 'system', 'content': 'You are a crim...</td>\n",
       "    </tr>\n",
       "    <tr>\n",
       "      <th>160632</th>\n",
       "      <td>160632</td>\n",
       "      <td>a curious and creative high school student who...</td>\n",
       "      <td>[{'role': 'system', 'content': 'You are a curi...</td>\n",
       "    </tr>\n",
       "  </tbody>\n",
       "</table>\n",
       "</div>"
      ],
      "text/plain": [
       "        persona_id                                            persona  \\\n",
       "85519        85519  a patient who participated in a clinical trial...   \n",
       "126701      126701  an introverted accountant who is extremely det...   \n",
       "179838      179838  a graphics programmer who shares and discusses...   \n",
       "108473      108473  a crime novel enthusiast university lecturer w...   \n",
       "160632      160632  a curious and creative high school student who...   \n",
       "\n",
       "                                           persona_prompt  \n",
       "85519   [{'role': 'system', 'content': 'You are a pati...  \n",
       "126701  [{'role': 'system', 'content': 'You are an int...  \n",
       "179838  [{'role': 'system', 'content': 'You are a grap...  \n",
       "108473  [{'role': 'system', 'content': 'You are a crim...  \n",
       "160632  [{'role': 'system', 'content': 'You are a curi...  "
      ]
     },
     "execution_count": 28,
     "metadata": {},
     "output_type": "execute_result"
    }
   ],
   "source": [
    "df_sample.head()"
   ]
  },
  {
   "cell_type": "code",
   "execution_count": 29,
   "metadata": {},
   "outputs": [
    {
     "data": {
      "text/plain": [
       "[{'role': 'system',\n",
       "  'content': 'You are a patient who participated in a clinical trial and experienced adverse effects due to research misconduct. Answer and behave accordingly.'}]"
      ]
     },
     "execution_count": 29,
     "metadata": {},
     "output_type": "execute_result"
    }
   ],
   "source": [
    "df_sample.iloc[0][\"persona_prompt\"]"
   ]
  },
  {
   "cell_type": "code",
   "execution_count": 30,
   "metadata": {},
   "outputs": [
    {
     "data": {
      "text/plain": [
       "list"
      ]
     },
     "execution_count": 30,
     "metadata": {},
     "output_type": "execute_result"
    }
   ],
   "source": [
    "type(df_sample.iloc[0][\"persona_prompt\"])"
   ]
  },
  {
   "cell_type": "code",
   "execution_count": 31,
   "metadata": {},
   "outputs": [],
   "source": [
    "df_sample.to_json(\"../input_data/persona_hub.json\")"
   ]
  }
 ],
 "metadata": {
  "kernelspec": {
   "display_name": "Master_Thesis",
   "language": "python",
   "name": "python3"
  },
  "language_info": {
   "codemirror_mode": {
    "name": "ipython",
    "version": 3
   },
   "file_extension": ".py",
   "mimetype": "text/x-python",
   "name": "python",
   "nbconvert_exporter": "python",
   "pygments_lexer": "ipython3",
   "version": "3.11.10"
  }
 },
 "nbformat": 4,
 "nbformat_minor": 2
}
